{
 "cells": [
  {
   "cell_type": "code",
   "execution_count": null,
   "id": "13ef4643",
   "metadata": {},
   "outputs": [],
   "source": [
    "#"
   ]
  },
  {
   "cell_type": "code",
   "execution_count": 296,
   "id": "daac6b16",
   "metadata": {},
   "outputs": [],
   "source": [
    "import numpy as np # linear algebra\n",
    "import matplotlib.pyplot as plt\n",
    "import pandas as pd # data processing, CSV file I/O (e.g. pd.read_csv)\n",
    "import seaborn as sns\n",
    "from scipy import stats\n",
    "import plotly.express as px\n",
    "import plotly.graph_objs as go\n",
    "import plotly\n",
    "import plotly.graph_objects as go\n",
    "#import datetime\n",
    "from datetime import datetime"
   ]
  },
  {
   "cell_type": "code",
   "execution_count": 297,
   "id": "c24372f8",
   "metadata": {},
   "outputs": [],
   "source": [
    "df_caby = pd.read_excel('/Users/srilathasirigala/Documents/Intern/CabData/DataSets/Cabydata.xlsx')\n",
    "df_citi = pd.read_csv('/Users/srilathasirigala/Documents/Intern/CabData/DataSets/City.csv')\n",
    "df_cust = pd.read_csv('/Users/srilathasirigala/Documents/Intern/CabData/DataSets/Customer_ID.csv')\n",
    "df_tra = pd.read_csv('/Users/srilathasirigala/Documents/Intern/CabData/DataSets/Transaction_ID.csv')\n"
   ]
  },
  {
   "cell_type": "code",
   "execution_count": 298,
   "id": "2f56891c",
   "metadata": {},
   "outputs": [
    {
     "data": {
      "text/html": [
       "<div>\n",
       "<style scoped>\n",
       "    .dataframe tbody tr th:only-of-type {\n",
       "        vertical-align: middle;\n",
       "    }\n",
       "\n",
       "    .dataframe tbody tr th {\n",
       "        vertical-align: top;\n",
       "    }\n",
       "\n",
       "    .dataframe thead th {\n",
       "        text-align: right;\n",
       "    }\n",
       "</style>\n",
       "<table border=\"1\" class=\"dataframe\">\n",
       "  <thead>\n",
       "    <tr style=\"text-align: right;\">\n",
       "      <th></th>\n",
       "      <th>Transaction ID</th>\n",
       "      <th>Date of Travel</th>\n",
       "      <th>Company</th>\n",
       "      <th>City</th>\n",
       "      <th>KM Travelled</th>\n",
       "      <th>Price Charged</th>\n",
       "      <th>Cost of Trip</th>\n",
       "    </tr>\n",
       "  </thead>\n",
       "  <tbody>\n",
       "    <tr>\n",
       "      <th>0</th>\n",
       "      <td>10000011</td>\n",
       "      <td>2016-01-08</td>\n",
       "      <td>Pink Cab</td>\n",
       "      <td>ATLANTA GA</td>\n",
       "      <td>30.45</td>\n",
       "      <td>370.95</td>\n",
       "      <td>313.635</td>\n",
       "    </tr>\n",
       "    <tr>\n",
       "      <th>1</th>\n",
       "      <td>10000012</td>\n",
       "      <td>2016-01-09</td>\n",
       "      <td>Pink Cab</td>\n",
       "      <td>ATLANTA GA</td>\n",
       "      <td>28.62</td>\n",
       "      <td>358.52</td>\n",
       "      <td>334.854</td>\n",
       "    </tr>\n",
       "    <tr>\n",
       "      <th>2</th>\n",
       "      <td>10000013</td>\n",
       "      <td>2016-01-10</td>\n",
       "      <td>Pink Cab</td>\n",
       "      <td>ATLANTA GA</td>\n",
       "      <td>9.04</td>\n",
       "      <td>125.20</td>\n",
       "      <td>97.632</td>\n",
       "    </tr>\n",
       "    <tr>\n",
       "      <th>3</th>\n",
       "      <td>10000014</td>\n",
       "      <td>2016-01-11</td>\n",
       "      <td>Pink Cab</td>\n",
       "      <td>ATLANTA GA</td>\n",
       "      <td>33.17</td>\n",
       "      <td>377.40</td>\n",
       "      <td>351.602</td>\n",
       "    </tr>\n",
       "    <tr>\n",
       "      <th>4</th>\n",
       "      <td>10000015</td>\n",
       "      <td>2016-01-12</td>\n",
       "      <td>Pink Cab</td>\n",
       "      <td>ATLANTA GA</td>\n",
       "      <td>8.73</td>\n",
       "      <td>114.62</td>\n",
       "      <td>97.776</td>\n",
       "    </tr>\n",
       "  </tbody>\n",
       "</table>\n",
       "</div>"
      ],
      "text/plain": [
       "   Transaction ID Date of Travel   Company        City  KM Travelled  \\\n",
       "0        10000011     2016-01-08  Pink Cab  ATLANTA GA         30.45   \n",
       "1        10000012     2016-01-09  Pink Cab  ATLANTA GA         28.62   \n",
       "2        10000013     2016-01-10  Pink Cab  ATLANTA GA          9.04   \n",
       "3        10000014     2016-01-11  Pink Cab  ATLANTA GA         33.17   \n",
       "4        10000015     2016-01-12  Pink Cab  ATLANTA GA          8.73   \n",
       "\n",
       "   Price Charged  Cost of Trip  \n",
       "0         370.95       313.635  \n",
       "1         358.52       334.854  \n",
       "2         125.20        97.632  \n",
       "3         377.40       351.602  \n",
       "4         114.62        97.776  "
      ]
     },
     "execution_count": 298,
     "metadata": {},
     "output_type": "execute_result"
    }
   ],
   "source": [
    "df_caby.head()\n"
   ]
  },
  {
   "cell_type": "code",
   "execution_count": 299,
   "id": "17fcf971",
   "metadata": {},
   "outputs": [
    {
     "name": "stdout",
     "output_type": "stream",
     "text": [
      "            Transaction ID Date of Travel           City  KM Travelled  \\\n",
      "Company                                                                  \n",
      "Pink Cab          10437611     2018-12-31  WASHINGTON DC         29.68   \n",
      "Yellow Cab        10440093     2018-12-31  WASHINGTON DC          4.32   \n",
      "\n",
      "            Price Charged  Cost of Trip  \n",
      "Company                                  \n",
      "Pink Cab           388.08      302.7360  \n",
      "Yellow Cab          60.41       55.4688  \n"
     ]
    }
   ],
   "source": [
    "dfdate = df_caby.groupby('Company')\n",
    "print(dfdate.last())"
   ]
  },
  {
   "cell_type": "code",
   "execution_count": 300,
   "id": "7b76c81b",
   "metadata": {},
   "outputs": [
    {
     "name": "stdout",
     "output_type": "stream",
     "text": [
      "<class 'pandas.core.frame.DataFrame'>\n",
      "RangeIndex: 346700 entries, 0 to 346699\n",
      "Data columns (total 7 columns):\n",
      " #   Column          Non-Null Count   Dtype         \n",
      "---  ------          --------------   -----         \n",
      " 0   Transaction ID  346700 non-null  int64         \n",
      " 1   Date of Travel  346700 non-null  datetime64[ns]\n",
      " 2   Company         346700 non-null  object        \n",
      " 3   City            346700 non-null  object        \n",
      " 4   KM Travelled    346700 non-null  float64       \n",
      " 5   Price Charged   346700 non-null  float64       \n",
      " 6   Cost of Trip    346700 non-null  float64       \n",
      "dtypes: datetime64[ns](1), float64(3), int64(1), object(2)\n",
      "memory usage: 18.5+ MB\n"
     ]
    }
   ],
   "source": [
    "df_caby.info()"
   ]
  },
  {
   "cell_type": "code",
   "execution_count": 301,
   "id": "4f561a9b",
   "metadata": {},
   "outputs": [
    {
     "name": "stdout",
     "output_type": "stream",
     "text": [
      "<class 'pandas.core.frame.DataFrame'>\n",
      "RangeIndex: 20 entries, 0 to 19\n",
      "Data columns (total 3 columns):\n",
      " #   Column      Non-Null Count  Dtype \n",
      "---  ------      --------------  ----- \n",
      " 0   City        20 non-null     object\n",
      " 1   Population  20 non-null     object\n",
      " 2   Users       20 non-null     object\n",
      "dtypes: object(3)\n",
      "memory usage: 608.0+ bytes\n"
     ]
    }
   ],
   "source": [
    "df_citi.info()"
   ]
  },
  {
   "cell_type": "code",
   "execution_count": 302,
   "id": "bff949d7",
   "metadata": {},
   "outputs": [
    {
     "name": "stdout",
     "output_type": "stream",
     "text": [
      "<class 'pandas.core.frame.DataFrame'>\n",
      "RangeIndex: 49171 entries, 0 to 49170\n",
      "Data columns (total 4 columns):\n",
      " #   Column              Non-Null Count  Dtype \n",
      "---  ------              --------------  ----- \n",
      " 0   Customer ID         49171 non-null  int64 \n",
      " 1   Gender              49171 non-null  object\n",
      " 2   Age                 49171 non-null  int64 \n",
      " 3   Income (USD/Month)  49171 non-null  int64 \n",
      "dtypes: int64(3), object(1)\n",
      "memory usage: 1.5+ MB\n"
     ]
    }
   ],
   "source": [
    "df_cust.info()"
   ]
  },
  {
   "cell_type": "code",
   "execution_count": 303,
   "id": "3214a3f9",
   "metadata": {},
   "outputs": [
    {
     "name": "stdout",
     "output_type": "stream",
     "text": [
      "<class 'pandas.core.frame.DataFrame'>\n",
      "RangeIndex: 440098 entries, 0 to 440097\n",
      "Data columns (total 3 columns):\n",
      " #   Column          Non-Null Count   Dtype \n",
      "---  ------          --------------   ----- \n",
      " 0   Transaction ID  440098 non-null  int64 \n",
      " 1   Customer ID     440098 non-null  int64 \n",
      " 2   Payment_Mode    440098 non-null  object\n",
      "dtypes: int64(2), object(1)\n",
      "memory usage: 10.1+ MB\n"
     ]
    }
   ],
   "source": [
    "df_tra.info()"
   ]
  },
  {
   "cell_type": "code",
   "execution_count": 304,
   "id": "16c185cf",
   "metadata": {},
   "outputs": [
    {
     "data": {
      "text/plain": [
       "<bound method DataFrame.info of         Transaction ID       Date     Company           City  KM Travelled  \\\n",
       "0             10000011 2016-01-08    Pink Cab     ATLANTA GA         30.45   \n",
       "1             10000012 2016-01-09    Pink Cab     ATLANTA GA         28.62   \n",
       "2             10000013 2016-01-10    Pink Cab     ATLANTA GA          9.04   \n",
       "3             10000014 2016-01-11    Pink Cab     ATLANTA GA         33.17   \n",
       "4             10000015 2016-01-12    Pink Cab     ATLANTA GA          8.73   \n",
       "...                ...        ...         ...            ...           ...   \n",
       "346695        10439960 2018-12-31  Yellow Cab  WASHINGTON DC         33.93   \n",
       "346696        10439984 2018-12-31  Yellow Cab  WASHINGTON DC         40.00   \n",
       "346697        10440028 2018-12-31  Yellow Cab  WASHINGTON DC         26.22   \n",
       "346698        10440034 2018-12-31  Yellow Cab  WASHINGTON DC         34.68   \n",
       "346699        10440093 2018-12-31  Yellow Cab  WASHINGTON DC          4.32   \n",
       "\n",
       "        Price Charged  Cost of Trip  \n",
       "0              370.95      313.6350  \n",
       "1              358.52      334.8540  \n",
       "2              125.20       97.6320  \n",
       "3              377.40      351.6020  \n",
       "4              114.62       97.7760  \n",
       "...               ...           ...  \n",
       "346695         474.47      411.2316  \n",
       "346696         641.78      484.8000  \n",
       "346697         405.25      327.2256  \n",
       "346698         505.38      470.2608  \n",
       "346699          60.41       55.4688  \n",
       "\n",
       "[346700 rows x 7 columns]>"
      ]
     },
     "execution_count": 304,
     "metadata": {},
     "output_type": "execute_result"
    }
   ],
   "source": [
    "df_caby['Date of Travel'] = pd.to_datetime(df_caby['Date of Travel'])\n",
    "df_caby = df_caby.rename(columns ={'Date of Travel': 'Date'})\n",
    "df_caby.info"
   ]
  },
  {
   "cell_type": "code",
   "execution_count": 305,
   "id": "17d4bca1",
   "metadata": {},
   "outputs": [],
   "source": [
    "JoinedData = df_caby.merge(df_tra, on= 'Transaction ID').merge(df_cust, on ='Customer ID').merge(df_citi, on = 'City')"
   ]
  },
  {
   "cell_type": "code",
   "execution_count": 306,
   "id": "94adef24",
   "metadata": {},
   "outputs": [],
   "source": [
    "MergeData=JoinedData.dropna()"
   ]
  },
  {
   "cell_type": "code",
   "execution_count": 307,
   "id": "8e846b5d",
   "metadata": {},
   "outputs": [
    {
     "data": {
      "text/html": [
       "<div>\n",
       "<style scoped>\n",
       "    .dataframe tbody tr th:only-of-type {\n",
       "        vertical-align: middle;\n",
       "    }\n",
       "\n",
       "    .dataframe tbody tr th {\n",
       "        vertical-align: top;\n",
       "    }\n",
       "\n",
       "    .dataframe thead th {\n",
       "        text-align: right;\n",
       "    }\n",
       "</style>\n",
       "<table border=\"1\" class=\"dataframe\">\n",
       "  <thead>\n",
       "    <tr style=\"text-align: right;\">\n",
       "      <th></th>\n",
       "      <th>Transaction ID</th>\n",
       "      <th>KM Travelled</th>\n",
       "      <th>Price Charged</th>\n",
       "      <th>Cost of Trip</th>\n",
       "      <th>Customer ID</th>\n",
       "      <th>Age</th>\n",
       "      <th>Income (USD/Month)</th>\n",
       "    </tr>\n",
       "  </thead>\n",
       "  <tbody>\n",
       "    <tr>\n",
       "      <th>count</th>\n",
       "      <td>3.467000e+05</td>\n",
       "      <td>346700.000000</td>\n",
       "      <td>346700.000000</td>\n",
       "      <td>346700.000000</td>\n",
       "      <td>346700.000000</td>\n",
       "      <td>346700.000000</td>\n",
       "      <td>346700.000000</td>\n",
       "    </tr>\n",
       "    <tr>\n",
       "      <th>mean</th>\n",
       "      <td>1.022850e+07</td>\n",
       "      <td>22.563486</td>\n",
       "      <td>421.803841</td>\n",
       "      <td>286.066880</td>\n",
       "      <td>19137.463412</td>\n",
       "      <td>35.330358</td>\n",
       "      <td>15047.438699</td>\n",
       "    </tr>\n",
       "    <tr>\n",
       "      <th>std</th>\n",
       "      <td>1.223676e+05</td>\n",
       "      <td>12.232157</td>\n",
       "      <td>272.799700</td>\n",
       "      <td>157.944536</td>\n",
       "      <td>20980.836512</td>\n",
       "      <td>12.594697</td>\n",
       "      <td>7967.149392</td>\n",
       "    </tr>\n",
       "    <tr>\n",
       "      <th>min</th>\n",
       "      <td>1.000001e+07</td>\n",
       "      <td>1.900000</td>\n",
       "      <td>15.600000</td>\n",
       "      <td>19.000000</td>\n",
       "      <td>1.000000</td>\n",
       "      <td>18.000000</td>\n",
       "      <td>2000.000000</td>\n",
       "    </tr>\n",
       "    <tr>\n",
       "      <th>25%</th>\n",
       "      <td>1.012201e+07</td>\n",
       "      <td>12.000000</td>\n",
       "      <td>205.890000</td>\n",
       "      <td>151.200000</td>\n",
       "      <td>2689.000000</td>\n",
       "      <td>25.000000</td>\n",
       "      <td>8429.750000</td>\n",
       "    </tr>\n",
       "    <tr>\n",
       "      <th>50%</th>\n",
       "      <td>1.022897e+07</td>\n",
       "      <td>22.440000</td>\n",
       "      <td>385.240000</td>\n",
       "      <td>282.240000</td>\n",
       "      <td>7451.000000</td>\n",
       "      <td>33.000000</td>\n",
       "      <td>14680.000000</td>\n",
       "    </tr>\n",
       "    <tr>\n",
       "      <th>75%</th>\n",
       "      <td>1.033479e+07</td>\n",
       "      <td>32.960000</td>\n",
       "      <td>581.680000</td>\n",
       "      <td>413.586000</td>\n",
       "      <td>35844.000000</td>\n",
       "      <td>42.000000</td>\n",
       "      <td>21035.000000</td>\n",
       "    </tr>\n",
       "    <tr>\n",
       "      <th>max</th>\n",
       "      <td>1.044011e+07</td>\n",
       "      <td>48.000000</td>\n",
       "      <td>2048.030000</td>\n",
       "      <td>691.200000</td>\n",
       "      <td>60000.000000</td>\n",
       "      <td>65.000000</td>\n",
       "      <td>35000.000000</td>\n",
       "    </tr>\n",
       "  </tbody>\n",
       "</table>\n",
       "</div>"
      ],
      "text/plain": [
       "       Transaction ID   KM Travelled  Price Charged   Cost of Trip  \\\n",
       "count    3.467000e+05  346700.000000  346700.000000  346700.000000   \n",
       "mean     1.022850e+07      22.563486     421.803841     286.066880   \n",
       "std      1.223676e+05      12.232157     272.799700     157.944536   \n",
       "min      1.000001e+07       1.900000      15.600000      19.000000   \n",
       "25%      1.012201e+07      12.000000     205.890000     151.200000   \n",
       "50%      1.022897e+07      22.440000     385.240000     282.240000   \n",
       "75%      1.033479e+07      32.960000     581.680000     413.586000   \n",
       "max      1.044011e+07      48.000000    2048.030000     691.200000   \n",
       "\n",
       "         Customer ID            Age  Income (USD/Month)  \n",
       "count  346700.000000  346700.000000       346700.000000  \n",
       "mean    19137.463412      35.330358        15047.438699  \n",
       "std     20980.836512      12.594697         7967.149392  \n",
       "min         1.000000      18.000000         2000.000000  \n",
       "25%      2689.000000      25.000000         8429.750000  \n",
       "50%      7451.000000      33.000000        14680.000000  \n",
       "75%     35844.000000      42.000000        21035.000000  \n",
       "max     60000.000000      65.000000        35000.000000  "
      ]
     },
     "execution_count": 307,
     "metadata": {},
     "output_type": "execute_result"
    }
   ],
   "source": [
    "MergeData.describe()"
   ]
  },
  {
   "cell_type": "code",
   "execution_count": 308,
   "id": "5b0eb0f7",
   "metadata": {},
   "outputs": [
    {
     "data": {
      "text/html": [
       "<div>\n",
       "<style scoped>\n",
       "    .dataframe tbody tr th:only-of-type {\n",
       "        vertical-align: middle;\n",
       "    }\n",
       "\n",
       "    .dataframe tbody tr th {\n",
       "        vertical-align: top;\n",
       "    }\n",
       "\n",
       "    .dataframe thead th {\n",
       "        text-align: right;\n",
       "    }\n",
       "</style>\n",
       "<table border=\"1\" class=\"dataframe\">\n",
       "  <thead>\n",
       "    <tr style=\"text-align: right;\">\n",
       "      <th></th>\n",
       "      <th>Transaction ID</th>\n",
       "      <th>Date</th>\n",
       "      <th>Company</th>\n",
       "      <th>City</th>\n",
       "      <th>KM Travelled</th>\n",
       "      <th>Price Charged</th>\n",
       "      <th>Cost of Trip</th>\n",
       "      <th>Customer ID</th>\n",
       "      <th>Payment_Mode</th>\n",
       "      <th>Gender</th>\n",
       "      <th>Age</th>\n",
       "      <th>Income (USD/Month)</th>\n",
       "      <th>Population</th>\n",
       "      <th>Users</th>\n",
       "    </tr>\n",
       "  </thead>\n",
       "  <tbody>\n",
       "    <tr>\n",
       "      <th>0</th>\n",
       "      <td>10000011</td>\n",
       "      <td>2016-01-08</td>\n",
       "      <td>Pink Cab</td>\n",
       "      <td>ATLANTA GA</td>\n",
       "      <td>30.45</td>\n",
       "      <td>370.95</td>\n",
       "      <td>313.6350</td>\n",
       "      <td>29290</td>\n",
       "      <td>Card</td>\n",
       "      <td>Male</td>\n",
       "      <td>28</td>\n",
       "      <td>10813</td>\n",
       "      <td>814,885</td>\n",
       "      <td>24,701</td>\n",
       "    </tr>\n",
       "    <tr>\n",
       "      <th>1</th>\n",
       "      <td>10351127</td>\n",
       "      <td>2018-07-21</td>\n",
       "      <td>Yellow Cab</td>\n",
       "      <td>ATLANTA GA</td>\n",
       "      <td>26.19</td>\n",
       "      <td>598.70</td>\n",
       "      <td>317.4228</td>\n",
       "      <td>29290</td>\n",
       "      <td>Cash</td>\n",
       "      <td>Male</td>\n",
       "      <td>28</td>\n",
       "      <td>10813</td>\n",
       "      <td>814,885</td>\n",
       "      <td>24,701</td>\n",
       "    </tr>\n",
       "    <tr>\n",
       "      <th>2</th>\n",
       "      <td>10412921</td>\n",
       "      <td>2018-11-23</td>\n",
       "      <td>Yellow Cab</td>\n",
       "      <td>ATLANTA GA</td>\n",
       "      <td>42.55</td>\n",
       "      <td>792.05</td>\n",
       "      <td>597.4020</td>\n",
       "      <td>29290</td>\n",
       "      <td>Card</td>\n",
       "      <td>Male</td>\n",
       "      <td>28</td>\n",
       "      <td>10813</td>\n",
       "      <td>814,885</td>\n",
       "      <td>24,701</td>\n",
       "    </tr>\n",
       "    <tr>\n",
       "      <th>3</th>\n",
       "      <td>10000012</td>\n",
       "      <td>2016-01-09</td>\n",
       "      <td>Pink Cab</td>\n",
       "      <td>ATLANTA GA</td>\n",
       "      <td>28.62</td>\n",
       "      <td>358.52</td>\n",
       "      <td>334.8540</td>\n",
       "      <td>27703</td>\n",
       "      <td>Card</td>\n",
       "      <td>Male</td>\n",
       "      <td>27</td>\n",
       "      <td>9237</td>\n",
       "      <td>814,885</td>\n",
       "      <td>24,701</td>\n",
       "    </tr>\n",
       "    <tr>\n",
       "      <th>4</th>\n",
       "      <td>10320494</td>\n",
       "      <td>2018-04-21</td>\n",
       "      <td>Yellow Cab</td>\n",
       "      <td>ATLANTA GA</td>\n",
       "      <td>36.38</td>\n",
       "      <td>721.10</td>\n",
       "      <td>467.1192</td>\n",
       "      <td>27703</td>\n",
       "      <td>Card</td>\n",
       "      <td>Male</td>\n",
       "      <td>27</td>\n",
       "      <td>9237</td>\n",
       "      <td>814,885</td>\n",
       "      <td>24,701</td>\n",
       "    </tr>\n",
       "    <tr>\n",
       "      <th>5</th>\n",
       "      <td>10324737</td>\n",
       "      <td>2018-05-04</td>\n",
       "      <td>Yellow Cab</td>\n",
       "      <td>ATLANTA GA</td>\n",
       "      <td>6.18</td>\n",
       "      <td>138.40</td>\n",
       "      <td>87.5088</td>\n",
       "      <td>27703</td>\n",
       "      <td>Cash</td>\n",
       "      <td>Male</td>\n",
       "      <td>27</td>\n",
       "      <td>9237</td>\n",
       "      <td>814,885</td>\n",
       "      <td>24,701</td>\n",
       "    </tr>\n",
       "    <tr>\n",
       "      <th>6</th>\n",
       "      <td>10395626</td>\n",
       "      <td>2018-10-27</td>\n",
       "      <td>Pink Cab</td>\n",
       "      <td>ATLANTA GA</td>\n",
       "      <td>13.39</td>\n",
       "      <td>167.03</td>\n",
       "      <td>141.9340</td>\n",
       "      <td>27703</td>\n",
       "      <td>Card</td>\n",
       "      <td>Male</td>\n",
       "      <td>27</td>\n",
       "      <td>9237</td>\n",
       "      <td>814,885</td>\n",
       "      <td>24,701</td>\n",
       "    </tr>\n",
       "    <tr>\n",
       "      <th>7</th>\n",
       "      <td>10000013</td>\n",
       "      <td>2016-01-10</td>\n",
       "      <td>Pink Cab</td>\n",
       "      <td>ATLANTA GA</td>\n",
       "      <td>9.04</td>\n",
       "      <td>125.20</td>\n",
       "      <td>97.6320</td>\n",
       "      <td>28712</td>\n",
       "      <td>Cash</td>\n",
       "      <td>Male</td>\n",
       "      <td>53</td>\n",
       "      <td>11242</td>\n",
       "      <td>814,885</td>\n",
       "      <td>24,701</td>\n",
       "    </tr>\n",
       "    <tr>\n",
       "      <th>8</th>\n",
       "      <td>10079404</td>\n",
       "      <td>2016-09-21</td>\n",
       "      <td>Yellow Cab</td>\n",
       "      <td>ATLANTA GA</td>\n",
       "      <td>39.60</td>\n",
       "      <td>704.30</td>\n",
       "      <td>494.2080</td>\n",
       "      <td>28712</td>\n",
       "      <td>Card</td>\n",
       "      <td>Male</td>\n",
       "      <td>53</td>\n",
       "      <td>11242</td>\n",
       "      <td>814,885</td>\n",
       "      <td>24,701</td>\n",
       "    </tr>\n",
       "    <tr>\n",
       "      <th>9</th>\n",
       "      <td>10186994</td>\n",
       "      <td>2017-06-23</td>\n",
       "      <td>Yellow Cab</td>\n",
       "      <td>ATLANTA GA</td>\n",
       "      <td>18.19</td>\n",
       "      <td>365.63</td>\n",
       "      <td>246.6564</td>\n",
       "      <td>28712</td>\n",
       "      <td>Card</td>\n",
       "      <td>Male</td>\n",
       "      <td>53</td>\n",
       "      <td>11242</td>\n",
       "      <td>814,885</td>\n",
       "      <td>24,701</td>\n",
       "    </tr>\n",
       "    <tr>\n",
       "      <th>10</th>\n",
       "      <td>10320493</td>\n",
       "      <td>2018-04-21</td>\n",
       "      <td>Yellow Cab</td>\n",
       "      <td>ATLANTA GA</td>\n",
       "      <td>19.38</td>\n",
       "      <td>326.35</td>\n",
       "      <td>272.0952</td>\n",
       "      <td>28712</td>\n",
       "      <td>Cash</td>\n",
       "      <td>Male</td>\n",
       "      <td>53</td>\n",
       "      <td>11242</td>\n",
       "      <td>814,885</td>\n",
       "      <td>24,701</td>\n",
       "    </tr>\n",
       "    <tr>\n",
       "      <th>11</th>\n",
       "      <td>10000014</td>\n",
       "      <td>2016-01-11</td>\n",
       "      <td>Pink Cab</td>\n",
       "      <td>ATLANTA GA</td>\n",
       "      <td>33.17</td>\n",
       "      <td>377.40</td>\n",
       "      <td>351.6020</td>\n",
       "      <td>28020</td>\n",
       "      <td>Cash</td>\n",
       "      <td>Male</td>\n",
       "      <td>23</td>\n",
       "      <td>23327</td>\n",
       "      <td>814,885</td>\n",
       "      <td>24,701</td>\n",
       "    </tr>\n",
       "    <tr>\n",
       "      <th>12</th>\n",
       "      <td>10094994</td>\n",
       "      <td>2016-10-27</td>\n",
       "      <td>Pink Cab</td>\n",
       "      <td>ATLANTA GA</td>\n",
       "      <td>41.44</td>\n",
       "      <td>522.14</td>\n",
       "      <td>484.8480</td>\n",
       "      <td>28020</td>\n",
       "      <td>Cash</td>\n",
       "      <td>Male</td>\n",
       "      <td>23</td>\n",
       "      <td>23327</td>\n",
       "      <td>814,885</td>\n",
       "      <td>24,701</td>\n",
       "    </tr>\n",
       "    <tr>\n",
       "      <th>13</th>\n",
       "      <td>10140112</td>\n",
       "      <td>2017-01-27</td>\n",
       "      <td>Yellow Cab</td>\n",
       "      <td>ATLANTA GA</td>\n",
       "      <td>24.72</td>\n",
       "      <td>515.66</td>\n",
       "      <td>323.3376</td>\n",
       "      <td>28020</td>\n",
       "      <td>Card</td>\n",
       "      <td>Male</td>\n",
       "      <td>23</td>\n",
       "      <td>23327</td>\n",
       "      <td>814,885</td>\n",
       "      <td>24,701</td>\n",
       "    </tr>\n",
       "    <tr>\n",
       "      <th>14</th>\n",
       "      <td>10326470</td>\n",
       "      <td>2018-05-11</td>\n",
       "      <td>Pink Cab</td>\n",
       "      <td>ATLANTA GA</td>\n",
       "      <td>34.00</td>\n",
       "      <td>451.19</td>\n",
       "      <td>408.0000</td>\n",
       "      <td>28020</td>\n",
       "      <td>Cash</td>\n",
       "      <td>Male</td>\n",
       "      <td>23</td>\n",
       "      <td>23327</td>\n",
       "      <td>814,885</td>\n",
       "      <td>24,701</td>\n",
       "    </tr>\n",
       "    <tr>\n",
       "      <th>15</th>\n",
       "      <td>10000015</td>\n",
       "      <td>2016-01-12</td>\n",
       "      <td>Pink Cab</td>\n",
       "      <td>ATLANTA GA</td>\n",
       "      <td>8.73</td>\n",
       "      <td>114.62</td>\n",
       "      <td>97.7760</td>\n",
       "      <td>27182</td>\n",
       "      <td>Card</td>\n",
       "      <td>Male</td>\n",
       "      <td>33</td>\n",
       "      <td>8536</td>\n",
       "      <td>814,885</td>\n",
       "      <td>24,701</td>\n",
       "    </tr>\n",
       "    <tr>\n",
       "      <th>16</th>\n",
       "      <td>10099482</td>\n",
       "      <td>2016-11-06</td>\n",
       "      <td>Yellow Cab</td>\n",
       "      <td>ATLANTA GA</td>\n",
       "      <td>10.90</td>\n",
       "      <td>191.13</td>\n",
       "      <td>132.1080</td>\n",
       "      <td>27182</td>\n",
       "      <td>Card</td>\n",
       "      <td>Male</td>\n",
       "      <td>33</td>\n",
       "      <td>8536</td>\n",
       "      <td>814,885</td>\n",
       "      <td>24,701</td>\n",
       "    </tr>\n",
       "    <tr>\n",
       "      <th>17</th>\n",
       "      <td>10179732</td>\n",
       "      <td>2017-06-03</td>\n",
       "      <td>Yellow Cab</td>\n",
       "      <td>ATLANTA GA</td>\n",
       "      <td>20.00</td>\n",
       "      <td>321.04</td>\n",
       "      <td>271.2000</td>\n",
       "      <td>27182</td>\n",
       "      <td>Cash</td>\n",
       "      <td>Male</td>\n",
       "      <td>33</td>\n",
       "      <td>8536</td>\n",
       "      <td>814,885</td>\n",
       "      <td>24,701</td>\n",
       "    </tr>\n",
       "    <tr>\n",
       "      <th>18</th>\n",
       "      <td>10293463</td>\n",
       "      <td>2018-01-13</td>\n",
       "      <td>Yellow Cab</td>\n",
       "      <td>ATLANTA GA</td>\n",
       "      <td>40.56</td>\n",
       "      <td>893.17</td>\n",
       "      <td>549.9936</td>\n",
       "      <td>27182</td>\n",
       "      <td>Card</td>\n",
       "      <td>Male</td>\n",
       "      <td>33</td>\n",
       "      <td>8536</td>\n",
       "      <td>814,885</td>\n",
       "      <td>24,701</td>\n",
       "    </tr>\n",
       "    <tr>\n",
       "      <th>19</th>\n",
       "      <td>10000016</td>\n",
       "      <td>2016-01-13</td>\n",
       "      <td>Pink Cab</td>\n",
       "      <td>ATLANTA GA</td>\n",
       "      <td>6.06</td>\n",
       "      <td>72.43</td>\n",
       "      <td>63.0240</td>\n",
       "      <td>27318</td>\n",
       "      <td>Cash</td>\n",
       "      <td>Male</td>\n",
       "      <td>25</td>\n",
       "      <td>13984</td>\n",
       "      <td>814,885</td>\n",
       "      <td>24,701</td>\n",
       "    </tr>\n",
       "    <tr>\n",
       "      <th>20</th>\n",
       "      <td>10072285</td>\n",
       "      <td>2016-09-04</td>\n",
       "      <td>Pink Cab</td>\n",
       "      <td>ATLANTA GA</td>\n",
       "      <td>45.20</td>\n",
       "      <td>539.01</td>\n",
       "      <td>479.1200</td>\n",
       "      <td>27318</td>\n",
       "      <td>Card</td>\n",
       "      <td>Male</td>\n",
       "      <td>25</td>\n",
       "      <td>13984</td>\n",
       "      <td>814,885</td>\n",
       "      <td>24,701</td>\n",
       "    </tr>\n",
       "    <tr>\n",
       "      <th>21</th>\n",
       "      <td>10110211</td>\n",
       "      <td>2016-11-19</td>\n",
       "      <td>Yellow Cab</td>\n",
       "      <td>ATLANTA GA</td>\n",
       "      <td>25.25</td>\n",
       "      <td>609.97</td>\n",
       "      <td>351.4800</td>\n",
       "      <td>27318</td>\n",
       "      <td>Card</td>\n",
       "      <td>Male</td>\n",
       "      <td>25</td>\n",
       "      <td>13984</td>\n",
       "      <td>814,885</td>\n",
       "      <td>24,701</td>\n",
       "    </tr>\n",
       "    <tr>\n",
       "      <th>22</th>\n",
       "      <td>10197294</td>\n",
       "      <td>2017-07-16</td>\n",
       "      <td>Yellow Cab</td>\n",
       "      <td>ATLANTA GA</td>\n",
       "      <td>15.00</td>\n",
       "      <td>410.62</td>\n",
       "      <td>205.2000</td>\n",
       "      <td>27318</td>\n",
       "      <td>Card</td>\n",
       "      <td>Male</td>\n",
       "      <td>25</td>\n",
       "      <td>13984</td>\n",
       "      <td>814,885</td>\n",
       "      <td>24,701</td>\n",
       "    </tr>\n",
       "    <tr>\n",
       "      <th>23</th>\n",
       "      <td>10196539</td>\n",
       "      <td>2017-07-19</td>\n",
       "      <td>Pink Cab</td>\n",
       "      <td>ATLANTA GA</td>\n",
       "      <td>26.73</td>\n",
       "      <td>329.46</td>\n",
       "      <td>299.3760</td>\n",
       "      <td>27318</td>\n",
       "      <td>Card</td>\n",
       "      <td>Male</td>\n",
       "      <td>25</td>\n",
       "      <td>13984</td>\n",
       "      <td>814,885</td>\n",
       "      <td>24,701</td>\n",
       "    </tr>\n",
       "    <tr>\n",
       "      <th>24</th>\n",
       "      <td>10018304</td>\n",
       "      <td>2016-03-19</td>\n",
       "      <td>Pink Cab</td>\n",
       "      <td>ATLANTA GA</td>\n",
       "      <td>10.35</td>\n",
       "      <td>159.18</td>\n",
       "      <td>109.7100</td>\n",
       "      <td>29653</td>\n",
       "      <td>Card</td>\n",
       "      <td>Female</td>\n",
       "      <td>40</td>\n",
       "      <td>7469</td>\n",
       "      <td>814,885</td>\n",
       "      <td>24,701</td>\n",
       "    </tr>\n",
       "    <tr>\n",
       "      <th>25</th>\n",
       "      <td>10099486</td>\n",
       "      <td>2016-11-07</td>\n",
       "      <td>Yellow Cab</td>\n",
       "      <td>ATLANTA GA</td>\n",
       "      <td>17.34</td>\n",
       "      <td>251.05</td>\n",
       "      <td>249.6960</td>\n",
       "      <td>29653</td>\n",
       "      <td>Card</td>\n",
       "      <td>Female</td>\n",
       "      <td>40</td>\n",
       "      <td>7469</td>\n",
       "      <td>814,885</td>\n",
       "      <td>24,701</td>\n",
       "    </tr>\n",
       "    <tr>\n",
       "      <th>26</th>\n",
       "      <td>10219233</td>\n",
       "      <td>2017-09-03</td>\n",
       "      <td>Yellow Cab</td>\n",
       "      <td>ATLANTA GA</td>\n",
       "      <td>16.64</td>\n",
       "      <td>393.89</td>\n",
       "      <td>221.6448</td>\n",
       "      <td>29653</td>\n",
       "      <td>Card</td>\n",
       "      <td>Female</td>\n",
       "      <td>40</td>\n",
       "      <td>7469</td>\n",
       "      <td>814,885</td>\n",
       "      <td>24,701</td>\n",
       "    </tr>\n",
       "    <tr>\n",
       "      <th>27</th>\n",
       "      <td>10254449</td>\n",
       "      <td>2017-11-05</td>\n",
       "      <td>Yellow Cab</td>\n",
       "      <td>ATLANTA GA</td>\n",
       "      <td>19.40</td>\n",
       "      <td>335.70</td>\n",
       "      <td>237.4560</td>\n",
       "      <td>29653</td>\n",
       "      <td>Cash</td>\n",
       "      <td>Female</td>\n",
       "      <td>40</td>\n",
       "      <td>7469</td>\n",
       "      <td>814,885</td>\n",
       "      <td>24,701</td>\n",
       "    </tr>\n",
       "    <tr>\n",
       "      <th>28</th>\n",
       "      <td>10359442</td>\n",
       "      <td>2018-08-11</td>\n",
       "      <td>Yellow Cab</td>\n",
       "      <td>ATLANTA GA</td>\n",
       "      <td>11.40</td>\n",
       "      <td>195.98</td>\n",
       "      <td>140.9040</td>\n",
       "      <td>29653</td>\n",
       "      <td>Cash</td>\n",
       "      <td>Female</td>\n",
       "      <td>40</td>\n",
       "      <td>7469</td>\n",
       "      <td>814,885</td>\n",
       "      <td>24,701</td>\n",
       "    </tr>\n",
       "    <tr>\n",
       "      <th>29</th>\n",
       "      <td>10392997</td>\n",
       "      <td>2018-10-16</td>\n",
       "      <td>Yellow Cab</td>\n",
       "      <td>ATLANTA GA</td>\n",
       "      <td>15.47</td>\n",
       "      <td>245.33</td>\n",
       "      <td>189.3528</td>\n",
       "      <td>29653</td>\n",
       "      <td>Card</td>\n",
       "      <td>Female</td>\n",
       "      <td>40</td>\n",
       "      <td>7469</td>\n",
       "      <td>814,885</td>\n",
       "      <td>24,701</td>\n",
       "    </tr>\n",
       "    <tr>\n",
       "      <th>30</th>\n",
       "      <td>10018306</td>\n",
       "      <td>2016-03-19</td>\n",
       "      <td>Pink Cab</td>\n",
       "      <td>ATLANTA GA</td>\n",
       "      <td>3.60</td>\n",
       "      <td>59.20</td>\n",
       "      <td>41.7600</td>\n",
       "      <td>28966</td>\n",
       "      <td>Cash</td>\n",
       "      <td>Female</td>\n",
       "      <td>62</td>\n",
       "      <td>2793</td>\n",
       "      <td>814,885</td>\n",
       "      <td>24,701</td>\n",
       "    </tr>\n",
       "    <tr>\n",
       "      <th>31</th>\n",
       "      <td>10020600</td>\n",
       "      <td>2016-04-01</td>\n",
       "      <td>Yellow Cab</td>\n",
       "      <td>ATLANTA GA</td>\n",
       "      <td>32.24</td>\n",
       "      <td>826.67</td>\n",
       "      <td>425.5680</td>\n",
       "      <td>28966</td>\n",
       "      <td>Cash</td>\n",
       "      <td>Female</td>\n",
       "      <td>62</td>\n",
       "      <td>2793</td>\n",
       "      <td>814,885</td>\n",
       "      <td>24,701</td>\n",
       "    </tr>\n",
       "    <tr>\n",
       "      <th>32</th>\n",
       "      <td>10064965</td>\n",
       "      <td>2016-08-16</td>\n",
       "      <td>Yellow Cab</td>\n",
       "      <td>ATLANTA GA</td>\n",
       "      <td>5.70</td>\n",
       "      <td>93.55</td>\n",
       "      <td>78.6600</td>\n",
       "      <td>28966</td>\n",
       "      <td>Card</td>\n",
       "      <td>Female</td>\n",
       "      <td>62</td>\n",
       "      <td>2793</td>\n",
       "      <td>814,885</td>\n",
       "      <td>24,701</td>\n",
       "    </tr>\n",
       "    <tr>\n",
       "      <th>33</th>\n",
       "      <td>10066872</td>\n",
       "      <td>2016-08-26</td>\n",
       "      <td>Pink Cab</td>\n",
       "      <td>ATLANTA GA</td>\n",
       "      <td>18.62</td>\n",
       "      <td>251.74</td>\n",
       "      <td>188.0620</td>\n",
       "      <td>28966</td>\n",
       "      <td>Cash</td>\n",
       "      <td>Female</td>\n",
       "      <td>62</td>\n",
       "      <td>2793</td>\n",
       "      <td>814,885</td>\n",
       "      <td>24,701</td>\n",
       "    </tr>\n",
       "    <tr>\n",
       "      <th>34</th>\n",
       "      <td>10106635</td>\n",
       "      <td>2016-11-20</td>\n",
       "      <td>Yellow Cab</td>\n",
       "      <td>ATLANTA GA</td>\n",
       "      <td>32.19</td>\n",
       "      <td>601.95</td>\n",
       "      <td>444.2220</td>\n",
       "      <td>28966</td>\n",
       "      <td>Card</td>\n",
       "      <td>Female</td>\n",
       "      <td>62</td>\n",
       "      <td>2793</td>\n",
       "      <td>814,885</td>\n",
       "      <td>24,701</td>\n",
       "    </tr>\n",
       "    <tr>\n",
       "      <th>35</th>\n",
       "      <td>10194586</td>\n",
       "      <td>2017-07-17</td>\n",
       "      <td>Yellow Cab</td>\n",
       "      <td>ATLANTA GA</td>\n",
       "      <td>30.52</td>\n",
       "      <td>517.84</td>\n",
       "      <td>417.5136</td>\n",
       "      <td>28966</td>\n",
       "      <td>Card</td>\n",
       "      <td>Female</td>\n",
       "      <td>62</td>\n",
       "      <td>2793</td>\n",
       "      <td>814,885</td>\n",
       "      <td>24,701</td>\n",
       "    </tr>\n",
       "    <tr>\n",
       "      <th>36</th>\n",
       "      <td>10341232</td>\n",
       "      <td>2018-06-19</td>\n",
       "      <td>Yellow Cab</td>\n",
       "      <td>ATLANTA GA</td>\n",
       "      <td>11.70</td>\n",
       "      <td>202.51</td>\n",
       "      <td>165.6720</td>\n",
       "      <td>28966</td>\n",
       "      <td>Card</td>\n",
       "      <td>Female</td>\n",
       "      <td>62</td>\n",
       "      <td>2793</td>\n",
       "      <td>814,885</td>\n",
       "      <td>24,701</td>\n",
       "    </tr>\n",
       "    <tr>\n",
       "      <th>37</th>\n",
       "      <td>10018772</td>\n",
       "      <td>2016-03-19</td>\n",
       "      <td>Yellow Cab</td>\n",
       "      <td>ATLANTA GA</td>\n",
       "      <td>38.85</td>\n",
       "      <td>849.54</td>\n",
       "      <td>526.8060</td>\n",
       "      <td>29405</td>\n",
       "      <td>Card</td>\n",
       "      <td>Male</td>\n",
       "      <td>26</td>\n",
       "      <td>9285</td>\n",
       "      <td>814,885</td>\n",
       "      <td>24,701</td>\n",
       "    </tr>\n",
       "    <tr>\n",
       "      <th>38</th>\n",
       "      <td>10358663</td>\n",
       "      <td>2018-08-10</td>\n",
       "      <td>Pink Cab</td>\n",
       "      <td>ATLANTA GA</td>\n",
       "      <td>9.45</td>\n",
       "      <td>127.31</td>\n",
       "      <td>108.6750</td>\n",
       "      <td>29405</td>\n",
       "      <td>Card</td>\n",
       "      <td>Male</td>\n",
       "      <td>26</td>\n",
       "      <td>9285</td>\n",
       "      <td>814,885</td>\n",
       "      <td>24,701</td>\n",
       "    </tr>\n",
       "    <tr>\n",
       "      <th>39</th>\n",
       "      <td>10385630</td>\n",
       "      <td>2018-10-03</td>\n",
       "      <td>Yellow Cab</td>\n",
       "      <td>ATLANTA GA</td>\n",
       "      <td>28.00</td>\n",
       "      <td>485.14</td>\n",
       "      <td>346.0800</td>\n",
       "      <td>29405</td>\n",
       "      <td>Card</td>\n",
       "      <td>Male</td>\n",
       "      <td>26</td>\n",
       "      <td>9285</td>\n",
       "      <td>814,885</td>\n",
       "      <td>24,701</td>\n",
       "    </tr>\n",
       "    <tr>\n",
       "      <th>40</th>\n",
       "      <td>10018774</td>\n",
       "      <td>2016-03-19</td>\n",
       "      <td>Yellow Cab</td>\n",
       "      <td>ATLANTA GA</td>\n",
       "      <td>3.51</td>\n",
       "      <td>68.29</td>\n",
       "      <td>48.8592</td>\n",
       "      <td>27400</td>\n",
       "      <td>Cash</td>\n",
       "      <td>Female</td>\n",
       "      <td>28</td>\n",
       "      <td>3739</td>\n",
       "      <td>814,885</td>\n",
       "      <td>24,701</td>\n",
       "    </tr>\n",
       "    <tr>\n",
       "      <th>41</th>\n",
       "      <td>10215067</td>\n",
       "      <td>2017-09-03</td>\n",
       "      <td>Pink Cab</td>\n",
       "      <td>ATLANTA GA</td>\n",
       "      <td>28.75</td>\n",
       "      <td>303.50</td>\n",
       "      <td>307.6250</td>\n",
       "      <td>27400</td>\n",
       "      <td>Card</td>\n",
       "      <td>Female</td>\n",
       "      <td>28</td>\n",
       "      <td>3739</td>\n",
       "      <td>814,885</td>\n",
       "      <td>24,701</td>\n",
       "    </tr>\n",
       "    <tr>\n",
       "      <th>42</th>\n",
       "      <td>10018787</td>\n",
       "      <td>2016-03-19</td>\n",
       "      <td>Yellow Cab</td>\n",
       "      <td>ATLANTA GA</td>\n",
       "      <td>16.80</td>\n",
       "      <td>331.75</td>\n",
       "      <td>211.6800</td>\n",
       "      <td>27743</td>\n",
       "      <td>Card</td>\n",
       "      <td>Female</td>\n",
       "      <td>34</td>\n",
       "      <td>21605</td>\n",
       "      <td>814,885</td>\n",
       "      <td>24,701</td>\n",
       "    </tr>\n",
       "    <tr>\n",
       "      <th>43</th>\n",
       "      <td>10113703</td>\n",
       "      <td>2016-11-27</td>\n",
       "      <td>Yellow Cab</td>\n",
       "      <td>ATLANTA GA</td>\n",
       "      <td>31.80</td>\n",
       "      <td>473.59</td>\n",
       "      <td>404.4960</td>\n",
       "      <td>27743</td>\n",
       "      <td>Cash</td>\n",
       "      <td>Female</td>\n",
       "      <td>34</td>\n",
       "      <td>21605</td>\n",
       "      <td>814,885</td>\n",
       "      <td>24,701</td>\n",
       "    </tr>\n",
       "    <tr>\n",
       "      <th>44</th>\n",
       "      <td>10018773</td>\n",
       "      <td>2016-03-20</td>\n",
       "      <td>Yellow Cab</td>\n",
       "      <td>ATLANTA GA</td>\n",
       "      <td>19.00</td>\n",
       "      <td>420.06</td>\n",
       "      <td>230.2800</td>\n",
       "      <td>28735</td>\n",
       "      <td>Card</td>\n",
       "      <td>Male</td>\n",
       "      <td>64</td>\n",
       "      <td>13047</td>\n",
       "      <td>814,885</td>\n",
       "      <td>24,701</td>\n",
       "    </tr>\n",
       "    <tr>\n",
       "      <th>45</th>\n",
       "      <td>10158538</td>\n",
       "      <td>2017-03-31</td>\n",
       "      <td>Yellow Cab</td>\n",
       "      <td>ATLANTA GA</td>\n",
       "      <td>2.16</td>\n",
       "      <td>42.87</td>\n",
       "      <td>30.5856</td>\n",
       "      <td>28735</td>\n",
       "      <td>Card</td>\n",
       "      <td>Male</td>\n",
       "      <td>64</td>\n",
       "      <td>13047</td>\n",
       "      <td>814,885</td>\n",
       "      <td>24,701</td>\n",
       "    </tr>\n",
       "    <tr>\n",
       "      <th>46</th>\n",
       "      <td>10167631</td>\n",
       "      <td>2017-04-26</td>\n",
       "      <td>Yellow Cab</td>\n",
       "      <td>ATLANTA GA</td>\n",
       "      <td>24.00</td>\n",
       "      <td>537.62</td>\n",
       "      <td>311.0400</td>\n",
       "      <td>28735</td>\n",
       "      <td>Card</td>\n",
       "      <td>Male</td>\n",
       "      <td>64</td>\n",
       "      <td>13047</td>\n",
       "      <td>814,885</td>\n",
       "      <td>24,701</td>\n",
       "    </tr>\n",
       "    <tr>\n",
       "      <th>47</th>\n",
       "      <td>10018776</td>\n",
       "      <td>2016-03-20</td>\n",
       "      <td>Yellow Cab</td>\n",
       "      <td>ATLANTA GA</td>\n",
       "      <td>20.14</td>\n",
       "      <td>410.80</td>\n",
       "      <td>261.0144</td>\n",
       "      <td>27014</td>\n",
       "      <td>Cash</td>\n",
       "      <td>Female</td>\n",
       "      <td>27</td>\n",
       "      <td>12234</td>\n",
       "      <td>814,885</td>\n",
       "      <td>24,701</td>\n",
       "    </tr>\n",
       "    <tr>\n",
       "      <th>48</th>\n",
       "      <td>10375141</td>\n",
       "      <td>2018-09-14</td>\n",
       "      <td>Yellow Cab</td>\n",
       "      <td>ATLANTA GA</td>\n",
       "      <td>18.53</td>\n",
       "      <td>316.18</td>\n",
       "      <td>222.3600</td>\n",
       "      <td>27014</td>\n",
       "      <td>Card</td>\n",
       "      <td>Female</td>\n",
       "      <td>27</td>\n",
       "      <td>12234</td>\n",
       "      <td>814,885</td>\n",
       "      <td>24,701</td>\n",
       "    </tr>\n",
       "    <tr>\n",
       "      <th>49</th>\n",
       "      <td>10018777</td>\n",
       "      <td>2016-03-20</td>\n",
       "      <td>Yellow Cab</td>\n",
       "      <td>ATLANTA GA</td>\n",
       "      <td>11.66</td>\n",
       "      <td>250.98</td>\n",
       "      <td>145.5168</td>\n",
       "      <td>29251</td>\n",
       "      <td>Card</td>\n",
       "      <td>Female</td>\n",
       "      <td>38</td>\n",
       "      <td>10105</td>\n",
       "      <td>814,885</td>\n",
       "      <td>24,701</td>\n",
       "    </tr>\n",
       "  </tbody>\n",
       "</table>\n",
       "</div>"
      ],
      "text/plain": [
       "    Transaction ID       Date     Company        City  KM Travelled  \\\n",
       "0         10000011 2016-01-08    Pink Cab  ATLANTA GA         30.45   \n",
       "1         10351127 2018-07-21  Yellow Cab  ATLANTA GA         26.19   \n",
       "2         10412921 2018-11-23  Yellow Cab  ATLANTA GA         42.55   \n",
       "3         10000012 2016-01-09    Pink Cab  ATLANTA GA         28.62   \n",
       "4         10320494 2018-04-21  Yellow Cab  ATLANTA GA         36.38   \n",
       "5         10324737 2018-05-04  Yellow Cab  ATLANTA GA          6.18   \n",
       "6         10395626 2018-10-27    Pink Cab  ATLANTA GA         13.39   \n",
       "7         10000013 2016-01-10    Pink Cab  ATLANTA GA          9.04   \n",
       "8         10079404 2016-09-21  Yellow Cab  ATLANTA GA         39.60   \n",
       "9         10186994 2017-06-23  Yellow Cab  ATLANTA GA         18.19   \n",
       "10        10320493 2018-04-21  Yellow Cab  ATLANTA GA         19.38   \n",
       "11        10000014 2016-01-11    Pink Cab  ATLANTA GA         33.17   \n",
       "12        10094994 2016-10-27    Pink Cab  ATLANTA GA         41.44   \n",
       "13        10140112 2017-01-27  Yellow Cab  ATLANTA GA         24.72   \n",
       "14        10326470 2018-05-11    Pink Cab  ATLANTA GA         34.00   \n",
       "15        10000015 2016-01-12    Pink Cab  ATLANTA GA          8.73   \n",
       "16        10099482 2016-11-06  Yellow Cab  ATLANTA GA         10.90   \n",
       "17        10179732 2017-06-03  Yellow Cab  ATLANTA GA         20.00   \n",
       "18        10293463 2018-01-13  Yellow Cab  ATLANTA GA         40.56   \n",
       "19        10000016 2016-01-13    Pink Cab  ATLANTA GA          6.06   \n",
       "20        10072285 2016-09-04    Pink Cab  ATLANTA GA         45.20   \n",
       "21        10110211 2016-11-19  Yellow Cab  ATLANTA GA         25.25   \n",
       "22        10197294 2017-07-16  Yellow Cab  ATLANTA GA         15.00   \n",
       "23        10196539 2017-07-19    Pink Cab  ATLANTA GA         26.73   \n",
       "24        10018304 2016-03-19    Pink Cab  ATLANTA GA         10.35   \n",
       "25        10099486 2016-11-07  Yellow Cab  ATLANTA GA         17.34   \n",
       "26        10219233 2017-09-03  Yellow Cab  ATLANTA GA         16.64   \n",
       "27        10254449 2017-11-05  Yellow Cab  ATLANTA GA         19.40   \n",
       "28        10359442 2018-08-11  Yellow Cab  ATLANTA GA         11.40   \n",
       "29        10392997 2018-10-16  Yellow Cab  ATLANTA GA         15.47   \n",
       "30        10018306 2016-03-19    Pink Cab  ATLANTA GA          3.60   \n",
       "31        10020600 2016-04-01  Yellow Cab  ATLANTA GA         32.24   \n",
       "32        10064965 2016-08-16  Yellow Cab  ATLANTA GA          5.70   \n",
       "33        10066872 2016-08-26    Pink Cab  ATLANTA GA         18.62   \n",
       "34        10106635 2016-11-20  Yellow Cab  ATLANTA GA         32.19   \n",
       "35        10194586 2017-07-17  Yellow Cab  ATLANTA GA         30.52   \n",
       "36        10341232 2018-06-19  Yellow Cab  ATLANTA GA         11.70   \n",
       "37        10018772 2016-03-19  Yellow Cab  ATLANTA GA         38.85   \n",
       "38        10358663 2018-08-10    Pink Cab  ATLANTA GA          9.45   \n",
       "39        10385630 2018-10-03  Yellow Cab  ATLANTA GA         28.00   \n",
       "40        10018774 2016-03-19  Yellow Cab  ATLANTA GA          3.51   \n",
       "41        10215067 2017-09-03    Pink Cab  ATLANTA GA         28.75   \n",
       "42        10018787 2016-03-19  Yellow Cab  ATLANTA GA         16.80   \n",
       "43        10113703 2016-11-27  Yellow Cab  ATLANTA GA         31.80   \n",
       "44        10018773 2016-03-20  Yellow Cab  ATLANTA GA         19.00   \n",
       "45        10158538 2017-03-31  Yellow Cab  ATLANTA GA          2.16   \n",
       "46        10167631 2017-04-26  Yellow Cab  ATLANTA GA         24.00   \n",
       "47        10018776 2016-03-20  Yellow Cab  ATLANTA GA         20.14   \n",
       "48        10375141 2018-09-14  Yellow Cab  ATLANTA GA         18.53   \n",
       "49        10018777 2016-03-20  Yellow Cab  ATLANTA GA         11.66   \n",
       "\n",
       "    Price Charged  Cost of Trip  Customer ID Payment_Mode  Gender  Age  \\\n",
       "0          370.95      313.6350        29290         Card    Male   28   \n",
       "1          598.70      317.4228        29290         Cash    Male   28   \n",
       "2          792.05      597.4020        29290         Card    Male   28   \n",
       "3          358.52      334.8540        27703         Card    Male   27   \n",
       "4          721.10      467.1192        27703         Card    Male   27   \n",
       "5          138.40       87.5088        27703         Cash    Male   27   \n",
       "6          167.03      141.9340        27703         Card    Male   27   \n",
       "7          125.20       97.6320        28712         Cash    Male   53   \n",
       "8          704.30      494.2080        28712         Card    Male   53   \n",
       "9          365.63      246.6564        28712         Card    Male   53   \n",
       "10         326.35      272.0952        28712         Cash    Male   53   \n",
       "11         377.40      351.6020        28020         Cash    Male   23   \n",
       "12         522.14      484.8480        28020         Cash    Male   23   \n",
       "13         515.66      323.3376        28020         Card    Male   23   \n",
       "14         451.19      408.0000        28020         Cash    Male   23   \n",
       "15         114.62       97.7760        27182         Card    Male   33   \n",
       "16         191.13      132.1080        27182         Card    Male   33   \n",
       "17         321.04      271.2000        27182         Cash    Male   33   \n",
       "18         893.17      549.9936        27182         Card    Male   33   \n",
       "19          72.43       63.0240        27318         Cash    Male   25   \n",
       "20         539.01      479.1200        27318         Card    Male   25   \n",
       "21         609.97      351.4800        27318         Card    Male   25   \n",
       "22         410.62      205.2000        27318         Card    Male   25   \n",
       "23         329.46      299.3760        27318         Card    Male   25   \n",
       "24         159.18      109.7100        29653         Card  Female   40   \n",
       "25         251.05      249.6960        29653         Card  Female   40   \n",
       "26         393.89      221.6448        29653         Card  Female   40   \n",
       "27         335.70      237.4560        29653         Cash  Female   40   \n",
       "28         195.98      140.9040        29653         Cash  Female   40   \n",
       "29         245.33      189.3528        29653         Card  Female   40   \n",
       "30          59.20       41.7600        28966         Cash  Female   62   \n",
       "31         826.67      425.5680        28966         Cash  Female   62   \n",
       "32          93.55       78.6600        28966         Card  Female   62   \n",
       "33         251.74      188.0620        28966         Cash  Female   62   \n",
       "34         601.95      444.2220        28966         Card  Female   62   \n",
       "35         517.84      417.5136        28966         Card  Female   62   \n",
       "36         202.51      165.6720        28966         Card  Female   62   \n",
       "37         849.54      526.8060        29405         Card    Male   26   \n",
       "38         127.31      108.6750        29405         Card    Male   26   \n",
       "39         485.14      346.0800        29405         Card    Male   26   \n",
       "40          68.29       48.8592        27400         Cash  Female   28   \n",
       "41         303.50      307.6250        27400         Card  Female   28   \n",
       "42         331.75      211.6800        27743         Card  Female   34   \n",
       "43         473.59      404.4960        27743         Cash  Female   34   \n",
       "44         420.06      230.2800        28735         Card    Male   64   \n",
       "45          42.87       30.5856        28735         Card    Male   64   \n",
       "46         537.62      311.0400        28735         Card    Male   64   \n",
       "47         410.80      261.0144        27014         Cash  Female   27   \n",
       "48         316.18      222.3600        27014         Card  Female   27   \n",
       "49         250.98      145.5168        29251         Card  Female   38   \n",
       "\n",
       "    Income (USD/Month) Population     Users  \n",
       "0                10813   814,885    24,701   \n",
       "1                10813   814,885    24,701   \n",
       "2                10813   814,885    24,701   \n",
       "3                 9237   814,885    24,701   \n",
       "4                 9237   814,885    24,701   \n",
       "5                 9237   814,885    24,701   \n",
       "6                 9237   814,885    24,701   \n",
       "7                11242   814,885    24,701   \n",
       "8                11242   814,885    24,701   \n",
       "9                11242   814,885    24,701   \n",
       "10               11242   814,885    24,701   \n",
       "11               23327   814,885    24,701   \n",
       "12               23327   814,885    24,701   \n",
       "13               23327   814,885    24,701   \n",
       "14               23327   814,885    24,701   \n",
       "15                8536   814,885    24,701   \n",
       "16                8536   814,885    24,701   \n",
       "17                8536   814,885    24,701   \n",
       "18                8536   814,885    24,701   \n",
       "19               13984   814,885    24,701   \n",
       "20               13984   814,885    24,701   \n",
       "21               13984   814,885    24,701   \n",
       "22               13984   814,885    24,701   \n",
       "23               13984   814,885    24,701   \n",
       "24                7469   814,885    24,701   \n",
       "25                7469   814,885    24,701   \n",
       "26                7469   814,885    24,701   \n",
       "27                7469   814,885    24,701   \n",
       "28                7469   814,885    24,701   \n",
       "29                7469   814,885    24,701   \n",
       "30                2793   814,885    24,701   \n",
       "31                2793   814,885    24,701   \n",
       "32                2793   814,885    24,701   \n",
       "33                2793   814,885    24,701   \n",
       "34                2793   814,885    24,701   \n",
       "35                2793   814,885    24,701   \n",
       "36                2793   814,885    24,701   \n",
       "37                9285   814,885    24,701   \n",
       "38                9285   814,885    24,701   \n",
       "39                9285   814,885    24,701   \n",
       "40                3739   814,885    24,701   \n",
       "41                3739   814,885    24,701   \n",
       "42               21605   814,885    24,701   \n",
       "43               21605   814,885    24,701   \n",
       "44               13047   814,885    24,701   \n",
       "45               13047   814,885    24,701   \n",
       "46               13047   814,885    24,701   \n",
       "47               12234   814,885    24,701   \n",
       "48               12234   814,885    24,701   \n",
       "49               10105   814,885    24,701   "
      ]
     },
     "execution_count": 308,
     "metadata": {},
     "output_type": "execute_result"
    }
   ],
   "source": [
    "MergeData.head(50)"
   ]
  },
  {
   "cell_type": "code",
   "execution_count": 309,
   "id": "9a4b2b4a",
   "metadata": {},
   "outputs": [
    {
     "data": {
      "text/plain": [
       "Transaction ID        0\n",
       "Date                  0\n",
       "Company               0\n",
       "City                  0\n",
       "KM Travelled          0\n",
       "Price Charged         0\n",
       "Cost of Trip          0\n",
       "Customer ID           0\n",
       "Payment_Mode          0\n",
       "Gender                0\n",
       "Age                   0\n",
       "Income (USD/Month)    0\n",
       "Population            0\n",
       "Users                 0\n",
       "dtype: int64"
      ]
     },
     "execution_count": 309,
     "metadata": {},
     "output_type": "execute_result"
    }
   ],
   "source": [
    "MergeData.isnull().sum()"
   ]
  },
  {
   "cell_type": "code",
   "execution_count": 310,
   "id": "77ad1ef9",
   "metadata": {
    "scrolled": false
   },
   "outputs": [
    {
     "data": {
      "text/html": [
       "<div>\n",
       "<style scoped>\n",
       "    .dataframe tbody tr th:only-of-type {\n",
       "        vertical-align: middle;\n",
       "    }\n",
       "\n",
       "    .dataframe tbody tr th {\n",
       "        vertical-align: top;\n",
       "    }\n",
       "\n",
       "    .dataframe thead th {\n",
       "        text-align: right;\n",
       "    }\n",
       "</style>\n",
       "<table border=\"1\" class=\"dataframe\">\n",
       "  <thead>\n",
       "    <tr style=\"text-align: right;\">\n",
       "      <th></th>\n",
       "      <th>Transaction_ID</th>\n",
       "      <th>Date</th>\n",
       "      <th>Company</th>\n",
       "      <th>City</th>\n",
       "      <th>KM_Travelled</th>\n",
       "      <th>Price_Charged</th>\n",
       "      <th>Cost_of_Trip</th>\n",
       "      <th>Customer_ID</th>\n",
       "      <th>Payment_Mode</th>\n",
       "      <th>Gender</th>\n",
       "      <th>Age</th>\n",
       "      <th>Income_(USD/Month)</th>\n",
       "      <th>Population</th>\n",
       "      <th>Users</th>\n",
       "    </tr>\n",
       "  </thead>\n",
       "  <tbody>\n",
       "    <tr>\n",
       "      <th>0</th>\n",
       "      <td>10000011</td>\n",
       "      <td>2016-01-08</td>\n",
       "      <td>Pink Cab</td>\n",
       "      <td>ATLANTA GA</td>\n",
       "      <td>30.45</td>\n",
       "      <td>370.95</td>\n",
       "      <td>313.6350</td>\n",
       "      <td>29290</td>\n",
       "      <td>Card</td>\n",
       "      <td>Male</td>\n",
       "      <td>28</td>\n",
       "      <td>10813</td>\n",
       "      <td>814885</td>\n",
       "      <td>24701</td>\n",
       "    </tr>\n",
       "    <tr>\n",
       "      <th>1</th>\n",
       "      <td>10351127</td>\n",
       "      <td>2018-07-21</td>\n",
       "      <td>Yellow Cab</td>\n",
       "      <td>ATLANTA GA</td>\n",
       "      <td>26.19</td>\n",
       "      <td>598.70</td>\n",
       "      <td>317.4228</td>\n",
       "      <td>29290</td>\n",
       "      <td>Cash</td>\n",
       "      <td>Male</td>\n",
       "      <td>28</td>\n",
       "      <td>10813</td>\n",
       "      <td>814885</td>\n",
       "      <td>24701</td>\n",
       "    </tr>\n",
       "    <tr>\n",
       "      <th>2</th>\n",
       "      <td>10412921</td>\n",
       "      <td>2018-11-23</td>\n",
       "      <td>Yellow Cab</td>\n",
       "      <td>ATLANTA GA</td>\n",
       "      <td>42.55</td>\n",
       "      <td>792.05</td>\n",
       "      <td>597.4020</td>\n",
       "      <td>29290</td>\n",
       "      <td>Card</td>\n",
       "      <td>Male</td>\n",
       "      <td>28</td>\n",
       "      <td>10813</td>\n",
       "      <td>814885</td>\n",
       "      <td>24701</td>\n",
       "    </tr>\n",
       "    <tr>\n",
       "      <th>3</th>\n",
       "      <td>10000012</td>\n",
       "      <td>2016-01-09</td>\n",
       "      <td>Pink Cab</td>\n",
       "      <td>ATLANTA GA</td>\n",
       "      <td>28.62</td>\n",
       "      <td>358.52</td>\n",
       "      <td>334.8540</td>\n",
       "      <td>27703</td>\n",
       "      <td>Card</td>\n",
       "      <td>Male</td>\n",
       "      <td>27</td>\n",
       "      <td>9237</td>\n",
       "      <td>814885</td>\n",
       "      <td>24701</td>\n",
       "    </tr>\n",
       "    <tr>\n",
       "      <th>4</th>\n",
       "      <td>10320494</td>\n",
       "      <td>2018-04-21</td>\n",
       "      <td>Yellow Cab</td>\n",
       "      <td>ATLANTA GA</td>\n",
       "      <td>36.38</td>\n",
       "      <td>721.10</td>\n",
       "      <td>467.1192</td>\n",
       "      <td>27703</td>\n",
       "      <td>Card</td>\n",
       "      <td>Male</td>\n",
       "      <td>27</td>\n",
       "      <td>9237</td>\n",
       "      <td>814885</td>\n",
       "      <td>24701</td>\n",
       "    </tr>\n",
       "    <tr>\n",
       "      <th>5</th>\n",
       "      <td>10324737</td>\n",
       "      <td>2018-05-04</td>\n",
       "      <td>Yellow Cab</td>\n",
       "      <td>ATLANTA GA</td>\n",
       "      <td>6.18</td>\n",
       "      <td>138.40</td>\n",
       "      <td>87.5088</td>\n",
       "      <td>27703</td>\n",
       "      <td>Cash</td>\n",
       "      <td>Male</td>\n",
       "      <td>27</td>\n",
       "      <td>9237</td>\n",
       "      <td>814885</td>\n",
       "      <td>24701</td>\n",
       "    </tr>\n",
       "    <tr>\n",
       "      <th>6</th>\n",
       "      <td>10395626</td>\n",
       "      <td>2018-10-27</td>\n",
       "      <td>Pink Cab</td>\n",
       "      <td>ATLANTA GA</td>\n",
       "      <td>13.39</td>\n",
       "      <td>167.03</td>\n",
       "      <td>141.9340</td>\n",
       "      <td>27703</td>\n",
       "      <td>Card</td>\n",
       "      <td>Male</td>\n",
       "      <td>27</td>\n",
       "      <td>9237</td>\n",
       "      <td>814885</td>\n",
       "      <td>24701</td>\n",
       "    </tr>\n",
       "    <tr>\n",
       "      <th>7</th>\n",
       "      <td>10000013</td>\n",
       "      <td>2016-01-10</td>\n",
       "      <td>Pink Cab</td>\n",
       "      <td>ATLANTA GA</td>\n",
       "      <td>9.04</td>\n",
       "      <td>125.20</td>\n",
       "      <td>97.6320</td>\n",
       "      <td>28712</td>\n",
       "      <td>Cash</td>\n",
       "      <td>Male</td>\n",
       "      <td>53</td>\n",
       "      <td>11242</td>\n",
       "      <td>814885</td>\n",
       "      <td>24701</td>\n",
       "    </tr>\n",
       "    <tr>\n",
       "      <th>8</th>\n",
       "      <td>10079404</td>\n",
       "      <td>2016-09-21</td>\n",
       "      <td>Yellow Cab</td>\n",
       "      <td>ATLANTA GA</td>\n",
       "      <td>39.60</td>\n",
       "      <td>704.30</td>\n",
       "      <td>494.2080</td>\n",
       "      <td>28712</td>\n",
       "      <td>Card</td>\n",
       "      <td>Male</td>\n",
       "      <td>53</td>\n",
       "      <td>11242</td>\n",
       "      <td>814885</td>\n",
       "      <td>24701</td>\n",
       "    </tr>\n",
       "    <tr>\n",
       "      <th>9</th>\n",
       "      <td>10186994</td>\n",
       "      <td>2017-06-23</td>\n",
       "      <td>Yellow Cab</td>\n",
       "      <td>ATLANTA GA</td>\n",
       "      <td>18.19</td>\n",
       "      <td>365.63</td>\n",
       "      <td>246.6564</td>\n",
       "      <td>28712</td>\n",
       "      <td>Card</td>\n",
       "      <td>Male</td>\n",
       "      <td>53</td>\n",
       "      <td>11242</td>\n",
       "      <td>814885</td>\n",
       "      <td>24701</td>\n",
       "    </tr>\n",
       "  </tbody>\n",
       "</table>\n",
       "</div>"
      ],
      "text/plain": [
       "   Transaction_ID       Date     Company        City  KM_Travelled  \\\n",
       "0        10000011 2016-01-08    Pink Cab  ATLANTA GA         30.45   \n",
       "1        10351127 2018-07-21  Yellow Cab  ATLANTA GA         26.19   \n",
       "2        10412921 2018-11-23  Yellow Cab  ATLANTA GA         42.55   \n",
       "3        10000012 2016-01-09    Pink Cab  ATLANTA GA         28.62   \n",
       "4        10320494 2018-04-21  Yellow Cab  ATLANTA GA         36.38   \n",
       "5        10324737 2018-05-04  Yellow Cab  ATLANTA GA          6.18   \n",
       "6        10395626 2018-10-27    Pink Cab  ATLANTA GA         13.39   \n",
       "7        10000013 2016-01-10    Pink Cab  ATLANTA GA          9.04   \n",
       "8        10079404 2016-09-21  Yellow Cab  ATLANTA GA         39.60   \n",
       "9        10186994 2017-06-23  Yellow Cab  ATLANTA GA         18.19   \n",
       "\n",
       "   Price_Charged  Cost_of_Trip  Customer_ID Payment_Mode Gender  Age  \\\n",
       "0         370.95      313.6350        29290         Card   Male   28   \n",
       "1         598.70      317.4228        29290         Cash   Male   28   \n",
       "2         792.05      597.4020        29290         Card   Male   28   \n",
       "3         358.52      334.8540        27703         Card   Male   27   \n",
       "4         721.10      467.1192        27703         Card   Male   27   \n",
       "5         138.40       87.5088        27703         Cash   Male   27   \n",
       "6         167.03      141.9340        27703         Card   Male   27   \n",
       "7         125.20       97.6320        28712         Cash   Male   53   \n",
       "8         704.30      494.2080        28712         Card   Male   53   \n",
       "9         365.63      246.6564        28712         Card   Male   53   \n",
       "\n",
       "   Income_(USD/Month) Population    Users  \n",
       "0               10813    814885    24701   \n",
       "1               10813    814885    24701   \n",
       "2               10813    814885    24701   \n",
       "3                9237    814885    24701   \n",
       "4                9237    814885    24701   \n",
       "5                9237    814885    24701   \n",
       "6                9237    814885    24701   \n",
       "7               11242    814885    24701   \n",
       "8               11242    814885    24701   \n",
       "9               11242    814885    24701   "
      ]
     },
     "execution_count": 310,
     "metadata": {},
     "output_type": "execute_result"
    }
   ],
   "source": [
    "for column in MergeData.columns:\n",
    "    if ' ' in column:\n",
    "        MergeData = MergeData.rename(columns={column:column.replace(' ','_')})\n",
    "        \n",
    "for column in [\"Population\",\"Users\"] :\n",
    "    \n",
    "        MergeData[column] = MergeData[column].str.replace(',','')\n",
    "        \n",
    "MergeData.head(10)"
   ]
  },
  {
   "cell_type": "code",
   "execution_count": 311,
   "id": "0bbe8103",
   "metadata": {},
   "outputs": [
    {
     "name": "stdout",
     "output_type": "stream",
     "text": [
      "\n",
      "Feature's datatypes\n",
      "\n",
      "Transaction_ID                 int64\n",
      "Date                  datetime64[ns]\n",
      "Company                     category\n",
      "City                        category\n",
      "KM_Travelled                 float64\n",
      "Price_Charged                float64\n",
      "Cost_of_Trip                 float64\n",
      "Customer_ID                    int64\n",
      "Payment_Mode                category\n",
      "Gender                      category\n",
      "Age                            int64\n",
      "Income_(USD/Month)             int64\n",
      "Population                     int64\n",
      "Users                          int64\n",
      "dtype: object\n"
     ]
    }
   ],
   "source": [
    "for column in [\"Company\", \"City\" , \"Payment_Mode\" , \"Gender\" ] :\n",
    "    \n",
    "        MergeData[column] = MergeData[column].astype('category')\n",
    "        \n",
    "        \n",
    "for column in [\"Population\", \"Users\" ] :\n",
    "    \n",
    "        MergeData[column] = MergeData[column].astype('int64')\n",
    "        \n",
    "print(\"\\nFeature's datatypes\\n\\n{}\".format(MergeData.dtypes))"
   ]
  },
  {
   "cell_type": "code",
   "execution_count": 312,
   "id": "9d9b2b4c",
   "metadata": {},
   "outputs": [],
   "source": [
    "##converting the date format into standard date format\n",
    "MergeData['Year'] = MergeData['Date'].dt.year\n",
    "MergeData['Month'] = MergeData['Date'].dt.month\n",
    "MergeData['Profit'] = MergeData['Price_Charged'] - MergeData['Cost_of_Trip']\n",
    "MergeData['Profit_Rate'] = ((MergeData['Price_Charged'] - MergeData['Cost_of_Trip'])/MergeData['Cost_of_Trip'])*100"
   ]
  },
  {
   "cell_type": "code",
   "execution_count": 313,
   "id": "d6baf1be",
   "metadata": {},
   "outputs": [
    {
     "data": {
      "text/plain": [
       "0         18.274427\n",
       "1         88.612790\n",
       "2         32.582415\n",
       "3          7.067558\n",
       "4         54.371732\n",
       "            ...    \n",
       "346695    30.642469\n",
       "346696    25.996364\n",
       "346697    17.920419\n",
       "346698    32.661059\n",
       "346699    11.008816\n",
       "Name: Profit_Rate, Length: 346700, dtype: float64"
      ]
     },
     "execution_count": 313,
     "metadata": {},
     "output_type": "execute_result"
    }
   ],
   "source": [
    "MergeData['Profit_Rate']"
   ]
  },
  {
   "cell_type": "code",
   "execution_count": 314,
   "id": "c08bdebf",
   "metadata": {},
   "outputs": [
    {
     "name": "stdout",
     "output_type": "stream",
     "text": [
      "Comparison of two Profit Rates of the company\n",
      "Company   Pink Cab  Yellow Cab\n",
      "Year                          \n",
      "2016     27.447867   54.776774\n",
      "2017     26.953767   56.772194\n",
      "2018     21.429671   48.383983\n"
     ]
    },
    {
     "data": {
      "image/png": "[encoded data removed]",
      "text/plain": [
       "<Figure size 640x480 with 1 Axes>"
      ]
     },
     "metadata": {},
     "output_type": "display_data"
    }
   ],
   "source": [
    "#Profit Rate Comparison\n",
    "\n",
    "ProfitRate = MergeData.groupby(['Year','Company']).Profit.sum().unstack()/ MergeData.groupby(['Year','Company']).Cost_of_Trip.sum().unstack()*100\n",
    "print(\"Comparison of two Profit Rates of the company\")\n",
    "print(ProfitRate)\n",
    "ax = ProfitRate.plot(kind='bar',stacked = False, title = ' Profit Rate Comparison')\n",
    "plt.show()"
   ]
  },
  {
   "cell_type": "code",
   "execution_count": 315,
   "id": "b9a5fb76",
   "metadata": {},
   "outputs": [
    {
     "data": {
      "text/plain": [
       "Text(0.5, 1.0, 'Population vs Users')"
      ]
     },
     "execution_count": 315,
     "metadata": {},
     "output_type": "execute_result"
    },
    {
     "data": {
      "image/png": "[encoded data removed]",
      "text/plain": [
       "<Figure size 1600x600 with 1 Axes>"
      ]
     },
     "metadata": {},
     "output_type": "display_data"
    }
   ],
   "source": [
    "#Compnay Vs Users vs Populations\n",
    "fig,axes = plt.subplots(figsize=(16, 6), sharey=True)\n",
    "fig.suptitle('Boxplot Distributions')\n",
    "sns.scatterplot(data=MergeData, x='Users', y='Population' , hue=\"Company\"  ).set_title(\"Population vs Users\")"
   ]
  },
  {
   "cell_type": "code",
   "execution_count": 316,
   "id": "2bf124fa",
   "metadata": {},
   "outputs": [
    {
     "data": {
      "application/vnd.plotly.v1+json": {
       "config": {
        "plotlyServerURL": "https://plot.ly"
       },
       "data": [
        {
         "marker": {
          "color": "Pink"
         },
         "name": "Pink Cab",
         "type": "bar",
         "x": [
          "ATLANTA GA",
          "AUSTIN TX",
          "BOSTON MA",
          "CHICAGO IL",
          "DALLAS TX",
          "DENVER CO",
          "LOS ANGELES CA",
          "MIAMI FL",
          "NASHVILLE TN",
          "NEW YORK NY",
          "ORANGE COUNTY",
          "PHOENIX AZ",
          "PITTSBURGH PA",
          "SACRAMENTO CA",
          "SAN DIEGO CA",
          "SEATTLE WA",
          "SILICON VALLEY",
          "TUCSON AZ",
          "WASHINGTON DC"
         ],
         "y": [
          1715,
          1847,
          4997,
          9054,
          1319,
          1360,
          19258,
          1954,
          1791,
          13718,
          1473,
          833,
          676,
          1298,
          10325,
          2592,
          3698,
          775,
          3560
         ]
        },
        {
         "marker": {
          "color": "Yellow"
         },
         "name": "Yellow Cab",
         "type": "bar",
         "x": [
          "ATLANTA GA",
          "AUSTIN TX",
          "BOSTON MA",
          "CHICAGO IL",
          "DALLAS TX",
          "DENVER CO",
          "LOS ANGELES CA",
          "MIAMI FL",
          "NASHVILLE TN",
          "NEW YORK NY",
          "ORANGE COUNTY",
          "PHOENIX AZ",
          "PITTSBURGH PA",
          "SACRAMENTO CA",
          "SAN DIEGO CA",
          "SEATTLE WA",
          "SILICON VALLEY",
          "TUCSON AZ",
          "WASHINGTON DC"
         ],
         "y": [
          5607,
          2955,
          23423,
          45131,
          5419,
          2340,
          27012,
          4373,
          1137,
          83217,
          2417,
          1170,
          615,
          996,
          9527,
          5036,
          4583,
          1100,
          38399
         ]
        }
       ],
       "layout": {
        "template": {
         "data": {
          "bar": [
           {
            "error_x": {
             "color": "#2a3f5f"
            },
            "error_y": {
             "color": "#2a3f5f"
            },
            "marker": {
             "line": {
              "color": "#E5ECF6",
              "width": 0.5
             },
             "pattern": {
              "fillmode": "overlay",
              "size": 10,
              "solidity": 0.2
             }
            },
            "type": "bar"
           }
          ],
          "barpolar": [
           {
            "marker": {
             "line": {
              "color": "#E5ECF6",
              "width": 0.5
             },
             "pattern": {
              "fillmode": "overlay",
              "size": 10,
              "solidity": 0.2
             }
            },
            "type": "barpolar"
           }
          ],
          "carpet": [
           {
            "aaxis": {
             "endlinecolor": "#2a3f5f",
             "gridcolor": "white",
             "linecolor": "white",
             "minorgridcolor": "white",
             "startlinecolor": "#2a3f5f"
            },
            "baxis": {
             "endlinecolor": "#2a3f5f",
             "gridcolor": "white",
             "linecolor": "white",
             "minorgridcolor": "white",
             "startlinecolor": "#2a3f5f"
            },
            "type": "carpet"
           }
          ],
          "choropleth": [
           {
            "colorbar": {
             "outlinewidth": 0,
             "ticks": ""
            },
            "type": "choropleth"
           }
          ],
          "contour": [
           {
            "colorbar": {
             "outlinewidth": 0,
             "ticks": ""
            },
            "colorscale": [
             [
              0,
              "#0d0887"
             ],
             [
              0.1111111111111111,
              "#46039f"
             ],
             [
              0.2222222222222222,
              "#7201a8"
             ],
             [
              0.3333333333333333,
              "#9c179e"
             ],
             [
              0.4444444444444444,
              "#bd3786"
             ],
             [
              0.5555555555555556,
              "#d8576b"
             ],
             [
              0.6666666666666666,
              "#ed7953"
             ],
             [
              0.7777777777777778,
              "#fb9f3a"
             ],
             [
              0.8888888888888888,
              "#fdca26"
             ],
             [
              1,
              "#f0f921"
             ]
            ],
            "type": "contour"
           }
          ],
          "contourcarpet": [
           {
            "colorbar": {
             "outlinewidth": 0,
             "ticks": ""
            },
            "type": "contourcarpet"
           }
          ],
          "heatmap": [
           {
            "colorbar": {
             "outlinewidth": 0,
             "ticks": ""
            },
            "colorscale": [
             [
              0,
              "#0d0887"
             ],
             [
              0.1111111111111111,
              "#46039f"
             ],
             [
              0.2222222222222222,
              "#7201a8"
             ],
             [
              0.3333333333333333,
              "#9c179e"
             ],
             [
              0.4444444444444444,
              "#bd3786"
             ],
             [
              0.5555555555555556,
              "#d8576b"
             ],
             [
              0.6666666666666666,
              "#ed7953"
             ],
             [
              0.7777777777777778,
              "#fb9f3a"
             ],
             [
              0.8888888888888888,
              "#fdca26"
             ],
             [
              1,
              "#f0f921"
             ]
            ],
            "type": "heatmap"
           }
          ],
          "heatmapgl": [
           {
            "colorbar": {
             "outlinewidth": 0,
             "ticks": ""
            },
            "colorscale": [
             [
              0,
              "#0d0887"
             ],
             [
              0.1111111111111111,
              "#46039f"
             ],
             [
              0.2222222222222222,
              "#7201a8"
             ],
             [
              0.3333333333333333,
              "#9c179e"
             ],
             [
              0.4444444444444444,
              "#bd3786"
             ],
             [
              0.5555555555555556,
              "#d8576b"
             ],
             [
              0.6666666666666666,
              "#ed7953"
             ],
             [
              0.7777777777777778,
              "#fb9f3a"
             ],
             [
              0.8888888888888888,
              "#fdca26"
             ],
             [
              1,
              "#f0f921"
             ]
            ],
            "type": "heatmapgl"
           }
          ],
          "histogram": [
           {
            "marker": {
             "pattern": {
              "fillmode": "overlay",
              "size": 10,
              "solidity": 0.2
             }
            },
            "type": "histogram"
           }
          ],
          "histogram2d": [
           {
            "colorbar": {
             "outlinewidth": 0,
             "ticks": ""
            },
            "colorscale": [
             [
              0,
              "#0d0887"
             ],
             [
              0.1111111111111111,
              "#46039f"
             ],
             [
              0.2222222222222222,
              "#7201a8"
             ],
             [
              0.3333333333333333,
              "#9c179e"
             ],
             [
              0.4444444444444444,
              "#bd3786"
             ],
             [
              0.5555555555555556,
              "#d8576b"
             ],
             [
              0.6666666666666666,
              "#ed7953"
             ],
             [
              0.7777777777777778,
              "#fb9f3a"
             ],
             [
              0.8888888888888888,
              "#fdca26"
             ],
             [
              1,
              "#f0f921"
             ]
            ],
            "type": "histogram2d"
           }
          ],
          "histogram2dcontour": [
           {
            "colorbar": {
             "outlinewidth": 0,
             "ticks": ""
            },
            "colorscale": [
             [
              0,
              "#0d0887"
             ],
             [
              0.1111111111111111,
              "#46039f"
             ],
             [
              0.2222222222222222,
              "#7201a8"
             ],
             [
              0.3333333333333333,
              "#9c179e"
             ],
             [
              0.4444444444444444,
              "#bd3786"
             ],
             [
              0.5555555555555556,
              "#d8576b"
             ],
             [
              0.6666666666666666,
              "#ed7953"
             ],
             [
              0.7777777777777778,
              "#fb9f3a"
             ],
             [
              0.8888888888888888,
              "#fdca26"
             ],
             [
              1,
              "#f0f921"
             ]
            ],
            "type": "histogram2dcontour"
           }
          ],
          "mesh3d": [
           {
            "colorbar": {
             "outlinewidth": 0,
             "ticks": ""
            },
            "type": "mesh3d"
           }
          ],
          "parcoords": [
           {
            "line": {
             "colorbar": {
              "outlinewidth": 0,
              "ticks": ""
             }
            },
            "type": "parcoords"
           }
          ],
          "pie": [
           {
            "automargin": true,
            "type": "pie"
           }
          ],
          "scatter": [
           {
            "fillpattern": {
             "fillmode": "overlay",
             "size": 10,
             "solidity": 0.2
            },
            "type": "scatter"
           }
          ],
          "scatter3d": [
           {
            "line": {
             "colorbar": {
              "outlinewidth": 0,
              "ticks": ""
             }
            },
            "marker": {
             "colorbar": {
              "outlinewidth": 0,
              "ticks": ""
             }
            },
            "type": "scatter3d"
           }
          ],
          "scattercarpet": [
           {
            "marker": {
             "colorbar": {
              "outlinewidth": 0,
              "ticks": ""
             }
            },
            "type": "scattercarpet"
           }
          ],
          "scattergeo": [
           {
            "marker": {
             "colorbar": {
              "outlinewidth": 0,
              "ticks": ""
             }
            },
            "type": "scattergeo"
           }
          ],
          "scattergl": [
           {
            "marker": {
             "colorbar": {
              "outlinewidth": 0,
              "ticks": ""
             }
            },
            "type": "scattergl"
           }
          ],
          "scattermapbox": [
           {
            "marker": {
             "colorbar": {
              "outlinewidth": 0,
              "ticks": ""
             }
            },
            "type": "scattermapbox"
           }
          ],
          "scatterpolar": [
           {
            "marker": {
             "colorbar": {
              "outlinewidth": 0,
              "ticks": ""
             }
            },
            "type": "scatterpolar"
           }
          ],
          "scatterpolargl": [
           {
            "marker": {
             "colorbar": {
              "outlinewidth": 0,
              "ticks": ""
             }
            },
            "type": "scatterpolargl"
           }
          ],
          "scatterternary": [
           {
            "marker": {
             "colorbar": {
              "outlinewidth": 0,
              "ticks": ""
             }
            },
            "type": "scatterternary"
           }
          ],
          "surface": [
           {
            "colorbar": {
             "outlinewidth": 0,
             "ticks": ""
            },
            "colorscale": [
             [
              0,
              "#0d0887"
             ],
             [
              0.1111111111111111,
              "#46039f"
             ],
             [
              0.2222222222222222,
              "#7201a8"
             ],
             [
              0.3333333333333333,
              "#9c179e"
             ],
             [
              0.4444444444444444,
              "#bd3786"
             ],
             [
              0.5555555555555556,
              "#d8576b"
             ],
             [
              0.6666666666666666,
              "#ed7953"
             ],
             [
              0.7777777777777778,
              "#fb9f3a"
             ],
             [
              0.8888888888888888,
              "#fdca26"
             ],
             [
              1,
              "#f0f921"
             ]
            ],
            "type": "surface"
           }
          ],
          "table": [
           {
            "cells": {
             "fill": {
              "color": "#EBF0F8"
             },
             "line": {
              "color": "white"
             }
            },
            "header": {
             "fill": {
              "color": "#C8D4E3"
             },
             "line": {
              "color": "white"
             }
            },
            "type": "table"
           }
          ]
         },
         "layout": {
          "annotationdefaults": {
           "arrowcolor": "#2a3f5f",
           "arrowhead": 0,
           "arrowwidth": 1
          },
          "autotypenumbers": "strict",
          "coloraxis": {
           "colorbar": {
            "outlinewidth": 0,
            "ticks": ""
           }
          },
          "colorscale": {
           "diverging": [
            [
             0,
             "#8e0152"
            ],
            [
             0.1,
             "#c51b7d"
            ],
            [
             0.2,
             "#de77ae"
            ],
            [
             0.3,
             "#f1b6da"
            ],
            [
             0.4,
             "#fde0ef"
            ],
            [
             0.5,
             "#f7f7f7"
            ],
            [
             0.6,
             "#e6f5d0"
            ],
            [
             0.7,
             "#b8e186"
            ],
            [
             0.8,
             "#7fbc41"
            ],
            [
             0.9,
             "#4d9221"
            ],
            [
             1,
             "#276419"
            ]
           ],
           "sequential": [
            [
             0,
             "#0d0887"
            ],
            [
             0.1111111111111111,
             "#46039f"
            ],
            [
             0.2222222222222222,
             "#7201a8"
            ],
            [
             0.3333333333333333,
             "#9c179e"
            ],
            [
             0.4444444444444444,
             "#bd3786"
            ],
            [
             0.5555555555555556,
             "#d8576b"
            ],
            [
             0.6666666666666666,
             "#ed7953"
            ],
            [
             0.7777777777777778,
             "#fb9f3a"
            ],
            [
             0.8888888888888888,
             "#fdca26"
            ],
            [
             1,
             "#f0f921"
            ]
           ],
           "sequentialminus": [
            [
             0,
             "#0d0887"
            ],
            [
             0.1111111111111111,
             "#46039f"
            ],
            [
             0.2222222222222222,
             "#7201a8"
            ],
            [
             0.3333333333333333,
             "#9c179e"
            ],
            [
             0.4444444444444444,
             "#bd3786"
            ],
            [
             0.5555555555555556,
             "#d8576b"
            ],
            [
             0.6666666666666666,
             "#ed7953"
            ],
            [
             0.7777777777777778,
             "#fb9f3a"
            ],
            [
             0.8888888888888888,
             "#fdca26"
            ],
            [
             1,
             "#f0f921"
            ]
           ]
          },
          "colorway": [
           "#636efa",
           "#EF553B",
           "#00cc96",
           "#ab63fa",
           "#FFA15A",
           "#19d3f3",
           "#FF6692",
           "#B6E880",
           "#FF97FF",
           "#FECB52"
          ],
          "font": {
           "color": "#2a3f5f"
          },
          "geo": {
           "bgcolor": "white",
           "lakecolor": "white",
           "landcolor": "#E5ECF6",
           "showlakes": true,
           "showland": true,
           "subunitcolor": "white"
          },
          "hoverlabel": {
           "align": "left"
          },
          "hovermode": "closest",
          "mapbox": {
           "style": "light"
          },
          "paper_bgcolor": "white",
          "plot_bgcolor": "#E5ECF6",
          "polar": {
           "angularaxis": {
            "gridcolor": "white",
            "linecolor": "white",
            "ticks": ""
           },
           "bgcolor": "#E5ECF6",
           "radialaxis": {
            "gridcolor": "white",
            "linecolor": "white",
            "ticks": ""
           }
          },
          "scene": {
           "xaxis": {
            "backgroundcolor": "#E5ECF6",
            "gridcolor": "white",
            "gridwidth": 2,
            "linecolor": "white",
            "showbackground": true,
            "ticks": "",
            "zerolinecolor": "white"
           },
           "yaxis": {
            "backgroundcolor": "#E5ECF6",
            "gridcolor": "white",
            "gridwidth": 2,
            "linecolor": "white",
            "showbackground": true,
            "ticks": "",
            "zerolinecolor": "white"
           },
           "zaxis": {
            "backgroundcolor": "#E5ECF6",
            "gridcolor": "white",
            "gridwidth": 2,
            "linecolor": "white",
            "showbackground": true,
            "ticks": "",
            "zerolinecolor": "white"
           }
          },
          "shapedefaults": {
           "line": {
            "color": "#2a3f5f"
           }
          },
          "ternary": {
           "aaxis": {
            "gridcolor": "white",
            "linecolor": "white",
            "ticks": ""
           },
           "baxis": {
            "gridcolor": "white",
            "linecolor": "white",
            "ticks": ""
           },
           "bgcolor": "#E5ECF6",
           "caxis": {
            "gridcolor": "white",
            "linecolor": "white",
            "ticks": ""
           }
          },
          "title": {
           "x": 0.05
          },
          "xaxis": {
           "automargin": true,
           "gridcolor": "white",
           "linecolor": "white",
           "ticks": "",
           "title": {
            "standoff": 15
           },
           "zerolinecolor": "white",
           "zerolinewidth": 2
          },
          "yaxis": {
           "automargin": true,
           "gridcolor": "white",
           "linecolor": "white",
           "ticks": "",
           "title": {
            "standoff": 15
           },
           "zerolinecolor": "white",
           "zerolinewidth": 2
          }
         }
        },
        "title": {
         "text": "Pink & Yellow Cab Firm Users Distribution Over City"
        },
        "yaxis": {
         "title": {
          "text": "Users"
         }
        }
       }
      },
      "text/html": [
       "<div>                            <div id=\"1ef9e693-8890-439e-bc58-9bcc41953be9\" class=\"plotly-graph-div\" style=\"height:525px; width:100%;\"></div>            <script type=\"text/javascript\">                require([\"plotly\"], function(Plotly) {                    window.PLOTLYENV=window.PLOTLYENV || {};                                    if (document.getElementById(\"1ef9e693-8890-439e-bc58-9bcc41953be9\")) {                    Plotly.newPlot(                        \"1ef9e693-8890-439e-bc58-9bcc41953be9\",                        [{\"marker\":{\"color\":\"Pink\"},\"name\":\"Pink Cab\",\"x\":[\"ATLANTA GA\",\"AUSTIN TX\",\"BOSTON MA\",\"CHICAGO IL\",\"DALLAS TX\",\"DENVER CO\",\"LOS ANGELES CA\",\"MIAMI FL\",\"NASHVILLE TN\",\"NEW YORK NY\",\"ORANGE COUNTY\",\"PHOENIX AZ\",\"PITTSBURGH PA\",\"SACRAMENTO CA\",\"SAN DIEGO CA\",\"SEATTLE WA\",\"SILICON VALLEY\",\"TUCSON AZ\",\"WASHINGTON DC\"],\"y\":[1715,1847,4997,9054,1319,1360,19258,1954,1791,13718,1473,833,676,1298,10325,2592,3698,775,3560],\"type\":\"bar\"},{\"marker\":{\"color\":\"Yellow\"},\"name\":\"Yellow Cab\",\"x\":[\"ATLANTA GA\",\"AUSTIN TX\",\"BOSTON MA\",\"CHICAGO IL\",\"DALLAS TX\",\"DENVER CO\",\"LOS ANGELES CA\",\"MIAMI FL\",\"NASHVILLE TN\",\"NEW YORK NY\",\"ORANGE COUNTY\",\"PHOENIX AZ\",\"PITTSBURGH PA\",\"SACRAMENTO CA\",\"SAN DIEGO CA\",\"SEATTLE WA\",\"SILICON VALLEY\",\"TUCSON AZ\",\"WASHINGTON DC\"],\"y\":[5607,2955,23423,45131,5419,2340,27012,4373,1137,83217,2417,1170,615,996,9527,5036,4583,1100,38399],\"type\":\"bar\"}],                        {\"template\":{\"data\":{\"histogram2dcontour\":[{\"type\":\"histogram2dcontour\",\"colorbar\":{\"outlinewidth\":0,\"ticks\":\"\"},\"colorscale\":[[0.0,\"#0d0887\"],[0.1111111111111111,\"#46039f\"],[0.2222222222222222,\"#7201a8\"],[0.3333333333333333,\"#9c179e\"],[0.4444444444444444,\"#bd3786\"],[0.5555555555555556,\"#d8576b\"],[0.6666666666666666,\"#ed7953\"],[0.7777777777777778,\"#fb9f3a\"],[0.8888888888888888,\"#fdca26\"],[1.0,\"#f0f921\"]]}],\"choropleth\":[{\"type\":\"choropleth\",\"colorbar\":{\"outlinewidth\":0,\"ticks\":\"\"}}],\"histogram2d\":[{\"type\":\"histogram2d\",\"colorbar\":{\"outlinewidth\":0,\"ticks\":\"\"},\"colorscale\":[[0.0,\"#0d0887\"],[0.1111111111111111,\"#46039f\"],[0.2222222222222222,\"#7201a8\"],[0.3333333333333333,\"#9c179e\"],[0.4444444444444444,\"#bd3786\"],[0.5555555555555556,\"#d8576b\"],[0.6666666666666666,\"#ed7953\"],[0.7777777777777778,\"#fb9f3a\"],[0.8888888888888888,\"#fdca26\"],[1.0,\"#f0f921\"]]}],\"heatmap\":[{\"type\":\"heatmap\",\"colorbar\":{\"outlinewidth\":0,\"ticks\":\"\"},\"colorscale\":[[0.0,\"#0d0887\"],[0.1111111111111111,\"#46039f\"],[0.2222222222222222,\"#7201a8\"],[0.3333333333333333,\"#9c179e\"],[0.4444444444444444,\"#bd3786\"],[0.5555555555555556,\"#d8576b\"],[0.6666666666666666,\"#ed7953\"],[0.7777777777777778,\"#fb9f3a\"],[0.8888888888888888,\"#fdca26\"],[1.0,\"#f0f921\"]]}],\"heatmapgl\":[{\"type\":\"heatmapgl\",\"colorbar\":{\"outlinewidth\":0,\"ticks\":\"\"},\"colorscale\":[[0.0,\"#0d0887\"],[0.1111111111111111,\"#46039f\"],[0.2222222222222222,\"#7201a8\"],[0.3333333333333333,\"#9c179e\"],[0.4444444444444444,\"#bd3786\"],[0.5555555555555556,\"#d8576b\"],[0.6666666666666666,\"#ed7953\"],[0.7777777777777778,\"#fb9f3a\"],[0.8888888888888888,\"#fdca26\"],[1.0,\"#f0f921\"]]}],\"contourcarpet\":[{\"type\":\"contourcarpet\",\"colorbar\":{\"outlinewidth\":0,\"ticks\":\"\"}}],\"contour\":[{\"type\":\"contour\",\"colorbar\":{\"outlinewidth\":0,\"ticks\":\"\"},\"colorscale\":[[0.0,\"#0d0887\"],[0.1111111111111111,\"#46039f\"],[0.2222222222222222,\"#7201a8\"],[0.3333333333333333,\"#9c179e\"],[0.4444444444444444,\"#bd3786\"],[0.5555555555555556,\"#d8576b\"],[0.6666666666666666,\"#ed7953\"],[0.7777777777777778,\"#fb9f3a\"],[0.8888888888888888,\"#fdca26\"],[1.0,\"#f0f921\"]]}],\"surface\":[{\"type\":\"surface\",\"colorbar\":{\"outlinewidth\":0,\"ticks\":\"\"},\"colorscale\":[[0.0,\"#0d0887\"],[0.1111111111111111,\"#46039f\"],[0.2222222222222222,\"#7201a8\"],[0.3333333333333333,\"#9c179e\"],[0.4444444444444444,\"#bd3786\"],[0.5555555555555556,\"#d8576b\"],[0.6666666666666666,\"#ed7953\"],[0.7777777777777778,\"#fb9f3a\"],[0.8888888888888888,\"#fdca26\"],[1.0,\"#f0f921\"]]}],\"mesh3d\":[{\"type\":\"mesh3d\",\"colorbar\":{\"outlinewidth\":0,\"ticks\":\"\"}}],\"scatter\":[{\"fillpattern\":{\"fillmode\":\"overlay\",\"size\":10,\"solidity\":0.2},\"type\":\"scatter\"}],\"parcoords\":[{\"type\":\"parcoords\",\"line\":{\"colorbar\":{\"outlinewidth\":0,\"ticks\":\"\"}}}],\"scatterpolargl\":[{\"type\":\"scatterpolargl\",\"marker\":{\"colorbar\":{\"outlinewidth\":0,\"ticks\":\"\"}}}],\"bar\":[{\"error_x\":{\"color\":\"#2a3f5f\"},\"error_y\":{\"color\":\"#2a3f5f\"},\"marker\":{\"line\":{\"color\":\"#E5ECF6\",\"width\":0.5},\"pattern\":{\"fillmode\":\"overlay\",\"size\":10,\"solidity\":0.2}},\"type\":\"bar\"}],\"scattergeo\":[{\"type\":\"scattergeo\",\"marker\":{\"colorbar\":{\"outlinewidth\":0,\"ticks\":\"\"}}}],\"scatterpolar\":[{\"type\":\"scatterpolar\",\"marker\":{\"colorbar\":{\"outlinewidth\":0,\"ticks\":\"\"}}}],\"histogram\":[{\"marker\":{\"pattern\":{\"fillmode\":\"overlay\",\"size\":10,\"solidity\":0.2}},\"type\":\"histogram\"}],\"scattergl\":[{\"type\":\"scattergl\",\"marker\":{\"colorbar\":{\"outlinewidth\":0,\"ticks\":\"\"}}}],\"scatter3d\":[{\"type\":\"scatter3d\",\"line\":{\"colorbar\":{\"outlinewidth\":0,\"ticks\":\"\"}},\"marker\":{\"colorbar\":{\"outlinewidth\":0,\"ticks\":\"\"}}}],\"scattermapbox\":[{\"type\":\"scattermapbox\",\"marker\":{\"colorbar\":{\"outlinewidth\":0,\"ticks\":\"\"}}}],\"scatterternary\":[{\"type\":\"scatterternary\",\"marker\":{\"colorbar\":{\"outlinewidth\":0,\"ticks\":\"\"}}}],\"scattercarpet\":[{\"type\":\"scattercarpet\",\"marker\":{\"colorbar\":{\"outlinewidth\":0,\"ticks\":\"\"}}}],\"carpet\":[{\"aaxis\":{\"endlinecolor\":\"#2a3f5f\",\"gridcolor\":\"white\",\"linecolor\":\"white\",\"minorgridcolor\":\"white\",\"startlinecolor\":\"#2a3f5f\"},\"baxis\":{\"endlinecolor\":\"#2a3f5f\",\"gridcolor\":\"white\",\"linecolor\":\"white\",\"minorgridcolor\":\"white\",\"startlinecolor\":\"#2a3f5f\"},\"type\":\"carpet\"}],\"table\":[{\"cells\":{\"fill\":{\"color\":\"#EBF0F8\"},\"line\":{\"color\":\"white\"}},\"header\":{\"fill\":{\"color\":\"#C8D4E3\"},\"line\":{\"color\":\"white\"}},\"type\":\"table\"}],\"barpolar\":[{\"marker\":{\"line\":{\"color\":\"#E5ECF6\",\"width\":0.5},\"pattern\":{\"fillmode\":\"overlay\",\"size\":10,\"solidity\":0.2}},\"type\":\"barpolar\"}],\"pie\":[{\"automargin\":true,\"type\":\"pie\"}]},\"layout\":{\"autotypenumbers\":\"strict\",\"colorway\":[\"#636efa\",\"#EF553B\",\"#00cc96\",\"#ab63fa\",\"#FFA15A\",\"#19d3f3\",\"#FF6692\",\"#B6E880\",\"#FF97FF\",\"#FECB52\"],\"font\":{\"color\":\"#2a3f5f\"},\"hovermode\":\"closest\",\"hoverlabel\":{\"align\":\"left\"},\"paper_bgcolor\":\"white\",\"plot_bgcolor\":\"#E5ECF6\",\"polar\":{\"bgcolor\":\"#E5ECF6\",\"angularaxis\":{\"gridcolor\":\"white\",\"linecolor\":\"white\",\"ticks\":\"\"},\"radialaxis\":{\"gridcolor\":\"white\",\"linecolor\":\"white\",\"ticks\":\"\"}},\"ternary\":{\"bgcolor\":\"#E5ECF6\",\"aaxis\":{\"gridcolor\":\"white\",\"linecolor\":\"white\",\"ticks\":\"\"},\"baxis\":{\"gridcolor\":\"white\",\"linecolor\":\"white\",\"ticks\":\"\"},\"caxis\":{\"gridcolor\":\"white\",\"linecolor\":\"white\",\"ticks\":\"\"}},\"coloraxis\":{\"colorbar\":{\"outlinewidth\":0,\"ticks\":\"\"}},\"colorscale\":{\"sequential\":[[0.0,\"#0d0887\"],[0.1111111111111111,\"#46039f\"],[0.2222222222222222,\"#7201a8\"],[0.3333333333333333,\"#9c179e\"],[0.4444444444444444,\"#bd3786\"],[0.5555555555555556,\"#d8576b\"],[0.6666666666666666,\"#ed7953\"],[0.7777777777777778,\"#fb9f3a\"],[0.8888888888888888,\"#fdca26\"],[1.0,\"#f0f921\"]],\"sequentialminus\":[[0.0,\"#0d0887\"],[0.1111111111111111,\"#46039f\"],[0.2222222222222222,\"#7201a8\"],[0.3333333333333333,\"#9c179e\"],[0.4444444444444444,\"#bd3786\"],[0.5555555555555556,\"#d8576b\"],[0.6666666666666666,\"#ed7953\"],[0.7777777777777778,\"#fb9f3a\"],[0.8888888888888888,\"#fdca26\"],[1.0,\"#f0f921\"]],\"diverging\":[[0,\"#8e0152\"],[0.1,\"#c51b7d\"],[0.2,\"#de77ae\"],[0.3,\"#f1b6da\"],[0.4,\"#fde0ef\"],[0.5,\"#f7f7f7\"],[0.6,\"#e6f5d0\"],[0.7,\"#b8e186\"],[0.8,\"#7fbc41\"],[0.9,\"#4d9221\"],[1,\"#276419\"]]},\"xaxis\":{\"gridcolor\":\"white\",\"linecolor\":\"white\",\"ticks\":\"\",\"title\":{\"standoff\":15},\"zerolinecolor\":\"white\",\"automargin\":true,\"zerolinewidth\":2},\"yaxis\":{\"gridcolor\":\"white\",\"linecolor\":\"white\",\"ticks\":\"\",\"title\":{\"standoff\":15},\"zerolinecolor\":\"white\",\"automargin\":true,\"zerolinewidth\":2},\"scene\":{\"xaxis\":{\"backgroundcolor\":\"#E5ECF6\",\"gridcolor\":\"white\",\"linecolor\":\"white\",\"showbackground\":true,\"ticks\":\"\",\"zerolinecolor\":\"white\",\"gridwidth\":2},\"yaxis\":{\"backgroundcolor\":\"#E5ECF6\",\"gridcolor\":\"white\",\"linecolor\":\"white\",\"showbackground\":true,\"ticks\":\"\",\"zerolinecolor\":\"white\",\"gridwidth\":2},\"zaxis\":{\"backgroundcolor\":\"#E5ECF6\",\"gridcolor\":\"white\",\"linecolor\":\"white\",\"showbackground\":true,\"ticks\":\"\",\"zerolinecolor\":\"white\",\"gridwidth\":2}},\"shapedefaults\":{\"line\":{\"color\":\"#2a3f5f\"}},\"annotationdefaults\":{\"arrowcolor\":\"#2a3f5f\",\"arrowhead\":0,\"arrowwidth\":1},\"geo\":{\"bgcolor\":\"white\",\"landcolor\":\"#E5ECF6\",\"subunitcolor\":\"white\",\"showland\":true,\"showlakes\":true,\"lakecolor\":\"white\"},\"title\":{\"x\":0.05},\"mapbox\":{\"style\":\"light\"}}},\"yaxis\":{\"title\":{\"text\":\"Users\"}},\"title\":{\"text\":\"Pink & Yellow Cab Firm Users Distribution Over City\"}},                        {\"responsive\": true}                    ).then(function(){\n",
       "                            \n",
       "var gd = document.getElementById('1ef9e693-8890-439e-bc58-9bcc41953be9');\n",
       "var x = new MutationObserver(function (mutations, observer) {{\n",
       "        var display = window.getComputedStyle(gd).display;\n",
       "        if (!display || display === 'none') {{\n",
       "            console.log([gd, 'removed!']);\n",
       "            Plotly.purge(gd);\n",
       "            observer.disconnect();\n",
       "        }}\n",
       "}});\n",
       "\n",
       "// Listen for the removal of the full notebook cells\n",
       "var notebookContainer = gd.closest('#notebook-container');\n",
       "if (notebookContainer) {{\n",
       "    x.observe(notebookContainer, {childList: true});\n",
       "}}\n",
       "\n",
       "// Listen for the clearing of the current output cell\n",
       "var outputEl = gd.closest('.output');\n",
       "if (outputEl) {{\n",
       "    x.observe(outputEl, {childList: true});\n",
       "}}\n",
       "\n",
       "                        })                };                });            </script>        </div>"
      ]
     },
     "metadata": {},
     "output_type": "display_data"
    }
   ],
   "source": [
    "\n",
    "#Pink and Yellow Cab Firm Users Distribution over City\n",
    "\n",
    "PinkCabC = MergeData[MergeData[\"Company\"] == \"Pink Cab\"].groupby(\"City\").count()\n",
    "YellowCabC = MergeData[MergeData[\"Company\"] == \"Yellow Cab\"].groupby(\"City\").count()\n",
    "\n",
    "fig = go.Figure()\n",
    "fig.add_trace(go.Bar(\n",
    "                    x=PinkCabC.index,\n",
    "                    y=PinkCabC['Users'],\n",
    "                    name='Pink Cab',\n",
    "                    marker_color='Pink' \n",
    "                    ))            \n",
    "fig.add_trace(go.Bar(\n",
    "                    x=YellowCabC.index,\n",
    "                    y=YellowCabC['Users'],\n",
    "                    name='Yellow Cab',\n",
    "                    marker_color='Yellow'\n",
    "                    ))\n",
    "fig.update_layout(\n",
    "    yaxis_title=\"Users\",\n",
    "    title=\"Pink & Yellow Cab Firm Users Distribution Over City\" )"
   ]
  },
  {
   "cell_type": "code",
   "execution_count": 317,
   "id": "5d4597df",
   "metadata": {},
   "outputs": [
    {
     "data": {
      "image/png": "[encoded data removed]",
      "text/plain": [
       "<Figure size 1300x600 with 1 Axes>"
      ]
     },
     "metadata": {},
     "output_type": "display_data"
    }
   ],
   "source": [
    "# month level trips\n",
    "monthstats = MergeData.groupby(['Year', 'Month', 'Company']).size().reset_index().\\\n",
    "                                                    rename(columns = {0:'count'})\n",
    "monthstats\n",
    "monthstats['monthly'] = monthstats['Year'].astype('str') + \"-\" + monthstats['Month'].astype('str')\n",
    "monthstats\n",
    "plt.figure(figsize = (13,6))\n",
    "ax = sns.lineplot(x = 'monthly', y = 'count', data = monthstats, hue = 'Company')\n",
    "for Month, name, color in zip([1,12], ['January', 'December'], ['pink', 'Yellow']):\n",
    "    monthstats.query(f\"Month == '{Month}'\")[['monthly', 'count']].\\\n",
    "    plot.scatter(x = 'monthly', y = 'count', ax = ax, label = f'{name}', color = color);\n",
    "\n",
    "plt.xticks(rotation = 45)\n",
    "plt.title('Monthly Trips');\n",
    "plt.xlabel('Month');\n",
    "plt.ylabel('Count of Trips');\n"
   ]
  },
  {
   "cell_type": "code",
   "execution_count": 332,
   "id": "8bac90dd",
   "metadata": {
    "scrolled": true
   },
   "outputs": [
    {
     "data": {
      "image/png": "[encoded data removed]",
      "text/plain": [
       "<Figure size 1000x500 with 2 Axes>"
      ]
     },
     "metadata": {},
     "output_type": "display_data"
    }
   ],
   "source": [
    "# Customer growth by company\n",
    "\n",
    "yearlygrowth=MergeData.groupby(['Year','City', 'Company']).agg({'Customer_ID':'nunique'}).\\\n",
    "reset_index()\n",
    "                                                                                   \n",
    "yearlygrowth\n",
    "sns.catplot(y ='Customer_ID', x = 'Year', col = 'Company', data = yearlygrowth, \n",
    "           kind = 'point', hue = 'Company', palette = palette);\n"
   ]
  },
  {
   "cell_type": "code",
   "execution_count": 249,
   "id": "93b27267",
   "metadata": {},
   "outputs": [
    {
     "data": {
      "image/png": "[encoded data removed]",
      "text/plain": [
       "<Figure size 1300x600 with 1 Axes>"
      ]
     },
     "metadata": {},
     "output_type": "display_data"
    }
   ],
   "source": [
    "\n",
    "#Count of Daily Trips\n",
    "\n",
    "Dailytrips = MergeData.groupby(['Date', 'Company']).size().reset_index().rename(columns = {0 : 'count'})\n",
    "\n",
    "Dailytrips[\"day\"] = Dailytrips.Date.dt.day_name()\n",
    "\n",
    "palette = ['#d965a6', '#ffc400']\n",
    "plt.figure(figsize = (13,6))\n",
    "sns.lineplot(x = 'Date', y = 'count', data = Dailytrips, hue ='Company', \n",
    "             palette = palette);\n",
    "plt.title('Count of Daily Trips');\n",
    "plt.xlabel('Date of Travel');\n",
    "plt.ylabel('Number of Trips');"
   ]
  },
  {
   "cell_type": "code",
   "execution_count": 289,
   "id": "ed1e988e",
   "metadata": {},
   "outputs": [
    {
     "data": {
      "text/plain": [
       "<function matplotlib.pyplot.show(close=None, block=None)>"
      ]
     },
     "execution_count": 289,
     "metadata": {},
     "output_type": "execute_result"
    },
    {
     "data": {
      "image/png": "[encoded data removed]",
      "text/plain": [
       "<Figure size 1400x600 with 1 Axes>"
      ]
     },
     "metadata": {},
     "output_type": "display_data"
    }
   ],
   "source": [
    "#Number Of Transactions\n",
    "\n",
    "fig1 =MergeData[MergeData.Company=='Pink Cab'].groupby('Year').Transaction_ID.count()\n",
    "fig2 = MergeData[MergeData.Company=='Yellow Cab'].groupby('Year').Transaction_ID.count()\n",
    "plt.figure(figsize=(14,6))\n",
    "ax = plt.subplot(111)\n",
    "ax.bar(fig1.index-0.2,fig1.values, width=0.4, color='purple', align='center',label='Pink Cab')\n",
    "ax.bar(fig2.index+0.2, fig2.values, width=0.4, color='Orange', align='center',label='Yellow Cab')\n",
    "plt.title(\"Pink cab vs Yellow cab\",fontsize = 16)\n",
    "plt.ylabel('No. of Transactions',fontsize = 14)\n",
    "plt.xlabel('Year',fontsize = 14)\n",
    "plt.legend()\n",
    "plt.show"
   ]
  },
  {
   "cell_type": "code",
   "execution_count": 292,
   "id": "0415117d",
   "metadata": {},
   "outputs": [
    {
     "data": {
      "text/plain": [
       "<AxesSubplot:xlabel='Income_(USD/Month)', ylabel='Count'>"
      ]
     },
     "execution_count": 292,
     "metadata": {},
     "output_type": "execute_result"
    },
    {
     "data": {
      "image/png": "[encoded data removed]",
      "text/plain": [
       "<Figure size 2600x800 with 3 Axes>"
      ]
     },
     "metadata": {},
     "output_type": "display_data"
    }
   ],
   "source": [
    "#The KDE curves and distribtion plots of selected variables with respect to Cab Firms drawn below.\n",
    "fig,axes = plt.subplots(1, 3 , figsize=(26,8), sharey=True)\n",
    "fig.suptitle('Distributions of Variables')\n",
    "sns.histplot(ax=axes[0], data=MergeData , x='Cost_of_Trip' , kde = True , hue=\"Company\")\n",
    "sns.histplot(ax=axes[1], data=MergeData , x='Price_Charged' , kde = True , hue=\"Company\")\n",
    "sns.histplot(ax=axes[2], data=MergeData , x='Income_(USD/Month)' , kde = True , hue=\"Company\") \n",
    "\n",
    "\n",
    "#\n"
   ]
  },
  {
   "cell_type": "code",
   "execution_count": 333,
   "id": "e27146e4",
   "metadata": {},
   "outputs": [
    {
     "data": {
      "image/png": "[encoded data removed]",
      "text/plain": [
       "<Figure size 1000x500 with 1 Axes>"
      ]
     },
     "metadata": {},
     "output_type": "display_data"
    }
   ],
   "source": [
    "#MArket Share by company\n",
    "\n",
    "pd.crosstab(index = MergeData.Year, columns = MergeData.Company, normalize = 'index').\\\n",
    "plot(kind = 'bar', stacked = True, rot = 0, title = 'Company Market Share', color = ['tab:pink', 'gold'], \n",
    "    figsize = (10, 5), ylabel = 'Proportion').\\\n",
    "legend(loc = 'lower center', ncol = 2, bbox_to_anchor = (0.5, -0.3));"
   ]
  },
  {
   "cell_type": "code",
   "execution_count": null,
   "id": "6b135c59",
   "metadata": {},
   "outputs": [],
   "source": []
  }
 ],
 "metadata": {
  "kernelspec": {
   "display_name": "Python 3 (ipykernel)",
   "language": "python",
   "name": "python3"
  },
  "language_info": {
   "codemirror_mode": {
    "name": "ipython",
    "version": 3
   },
   "file_extension": ".py",
   "mimetype": "text/x-python",
   "name": "python",
   "nbconvert_exporter": "python",
   "pygments_lexer": "ipython3",
   "version": "3.9.13"
  }
 },
 "nbformat": 4,
 "nbformat_minor": 5
}
